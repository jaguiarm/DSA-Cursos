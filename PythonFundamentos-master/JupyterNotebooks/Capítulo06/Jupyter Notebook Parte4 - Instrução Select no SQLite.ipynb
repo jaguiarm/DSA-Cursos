{
 "cells": [
  {
   "cell_type": "markdown",
   "metadata": {},
   "source": [
    "# <font color='blue'>Data Science Academy - Python Fundamentos - Capítulo 6</font>\n",
    "\n",
    "## Download: http://github.com/dsacademybr"
   ]
  },
  {
   "cell_type": "markdown",
   "metadata": {},
   "source": [
    "****** Este Jupyter Notebook foi atualizado para a versão 3.6.1 da Linguagem Python em 05/06/2017 ******"
   ]
  },
  {
   "cell_type": "markdown",
   "metadata": {},
   "source": [
    "### Leitura de dados"
   ]
  },
  {
   "cell_type": "code",
   "execution_count": 1,
   "metadata": {
    "collapsed": true
   },
   "outputs": [],
   "source": [
    "import sqlite3\n",
    "import random\n",
    "import time\n",
    "import datetime\n",
    " \n",
    "# Criando uma conexão\n",
    "conn = sqlite3.connect('dsa.db')   \n",
    "\n",
    "# Criando um cursor\n",
    "c = conn.cursor()\n",
    " \n",
    "# Função para criar uma tabela\n",
    "def create_table():\n",
    "    c.execute('CREATE TABLE IF NOT EXISTS produtos(id INTEGER PRIMARY KEY AUTOINCREMENT NOT NULL, date TEXT, '\\\n",
    "              'prod_name TEXT, valor REAL)')\n",
    "\n",
    "# Função para inserir uma linha\n",
    "def data_insert():\n",
    "    c.execute(\"INSERT INTO produtos VALUES(002, '02-05-2016', 'teclado', 130 )\")\n",
    "    conn.commit()\n",
    "    c.close()\n",
    "    conn.close()\n",
    "    \n",
    "# Usando variáveis para inserir dados    \n",
    "def data_insert_var():\n",
    "    new_date = datetime.datetime.now()\n",
    "    new_prod_name = 'monitor'\n",
    "    new_valor = random.randrange(50,100)\n",
    "    c.execute(\"INSERT INTO produtos (date, prod_name, valor) VALUES (?, ?, ?, ?)\", \n",
    "              (new_date, new_prod_name, new_valor))\n",
    "    conn.commit()\n",
    "    \n",
    "# Leitura de dados\n",
    "def leitura_todos_dados():\n",
    "    c.execute(\"SELECT * FROM PRODUTOS\")\n",
    "    for linha in c.fetchall():\n",
    "        print(linha)\n",
    "        \n",
    "# Leitura de registros específicos\n",
    "def leitura_registros():\n",
    "    c.execute(\"SELECT * FROM PRODUTOS WHERE valor > 60.0\")\n",
    "    for linha in c.fetchall():\n",
    "        print(linha)      \n",
    "        \n",
    "# Leitura de colunas específicos\n",
    "def leitura_colunas():\n",
    "    c.execute(\"SELECT * FROM PRODUTOS\")\n",
    "    for linha in c.fetchall():\n",
    "        print(linha[3])         \n"
   ]
  },
  {
   "cell_type": "code",
   "execution_count": 2,
   "metadata": {},
   "outputs": [
    {
     "name": "stdout",
     "output_type": "stream",
     "text": [
      "(10, '2016-05-02 14:32:11', 'Teclado', 90.0)\n",
      "(11, '2017-06-06 13:53:13.750298', 'Monitor', 94.0)\n",
      "(12, '2017-06-06 13:53:14.754985', 'Monitor', 64.0)\n",
      "(13, '2017-06-06 13:53:15.763645', 'Monitor', 77.0)\n",
      "(14, '2017-06-06 13:53:16.771173', 'Monitor', 94.0)\n",
      "(15, '2017-06-06 13:53:17.778486', 'Monitor', 70.0)\n",
      "(16, '2017-06-06 13:53:18.782498', 'Monitor', 65.0)\n",
      "(17, '2017-06-06 13:53:19.794125', 'Monitor', 61.0)\n",
      "(18, '2017-06-06 13:53:20.805552', 'Monitor', 61.0)\n",
      "(19, '2017-06-06 13:53:21.817571', 'Monitor', 89.0)\n",
      "(20, '2017-06-06 13:53:22.829989', 'Monitor', 73.0)\n"
     ]
    }
   ],
   "source": [
    "# Select nos dados\n",
    "leitura_todos_dados()"
   ]
  },
  {
   "cell_type": "code",
   "execution_count": 3,
   "metadata": {},
   "outputs": [
    {
     "name": "stdout",
     "output_type": "stream",
     "text": [
      "(10, '2016-05-02 14:32:11', 'Teclado', 90.0)\n",
      "(11, '2017-06-06 13:53:13.750298', 'Monitor', 94.0)\n",
      "(12, '2017-06-06 13:53:14.754985', 'Monitor', 64.0)\n",
      "(13, '2017-06-06 13:53:15.763645', 'Monitor', 77.0)\n",
      "(14, '2017-06-06 13:53:16.771173', 'Monitor', 94.0)\n",
      "(15, '2017-06-06 13:53:17.778486', 'Monitor', 70.0)\n",
      "(16, '2017-06-06 13:53:18.782498', 'Monitor', 65.0)\n",
      "(17, '2017-06-06 13:53:19.794125', 'Monitor', 61.0)\n",
      "(18, '2017-06-06 13:53:20.805552', 'Monitor', 61.0)\n",
      "(19, '2017-06-06 13:53:21.817571', 'Monitor', 89.0)\n",
      "(20, '2017-06-06 13:53:22.829989', 'Monitor', 73.0)\n"
     ]
    }
   ],
   "source": [
    "# Leitura de registros específicos\n",
    "leitura_registros()"
   ]
  },
  {
   "cell_type": "code",
   "execution_count": 4,
   "metadata": {},
   "outputs": [
    {
     "name": "stdout",
     "output_type": "stream",
     "text": [
      "90.0\n",
      "94.0\n",
      "64.0\n",
      "77.0\n",
      "94.0\n",
      "70.0\n",
      "65.0\n",
      "61.0\n",
      "61.0\n",
      "89.0\n",
      "73.0\n"
     ]
    }
   ],
   "source": [
    "# Leitura de colunas específicas\n",
    "leitura_colunas()"
   ]
  },
  {
   "cell_type": "code",
   "execution_count": 5,
   "metadata": {
    "collapsed": true
   },
   "outputs": [],
   "source": [
    "# Encerrando a conexão\n",
    "c.close()\n",
    "conn.close()"
   ]
  },
  {
   "cell_type": "markdown",
   "metadata": {},
   "source": [
    "# Fim"
   ]
  },
  {
   "cell_type": "markdown",
   "metadata": {},
   "source": [
    "### Obrigado - Data Science Academy - <a href=http://facebook.com/dsacademy>facebook.com/dsacademybr</a>"
   ]
  }
 ],
 "metadata": {
  "kernelspec": {
   "display_name": "Python 3",
   "language": "python",
   "name": "python3"
  },
  "language_info": {
   "codemirror_mode": {
    "name": "ipython",
    "version": 3
   },
   "file_extension": ".py",
   "mimetype": "text/x-python",
   "name": "python",
   "nbconvert_exporter": "python",
   "pygments_lexer": "ipython3",
   "version": "3.6.1"
  }
 },
 "nbformat": 4,
 "nbformat_minor": 1
}
