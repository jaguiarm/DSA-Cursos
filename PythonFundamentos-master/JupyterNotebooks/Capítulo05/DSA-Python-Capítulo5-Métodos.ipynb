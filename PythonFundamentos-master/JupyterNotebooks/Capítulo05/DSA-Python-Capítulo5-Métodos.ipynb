{
 "cells": [
  {
   "cell_type": "markdown",
   "metadata": {},
   "source": [
    "# <font color='blue'>Data Science Academy - Python Fundamentos - Capítulo 5</font>\n",
    "\n",
    "## Download: http://github.com/dsacademybr"
   ]
  },
  {
   "cell_type": "markdown",
   "metadata": {},
   "source": [
    "****** Este Jupyter Notebook foi atualizado para a versão 3.6.1 da Linguagem Python em 05/06/2017 ******"
   ]
  },
  {
   "cell_type": "markdown",
   "metadata": {},
   "source": [
    "## Métodos"
   ]
  },
  {
   "cell_type": "code",
   "execution_count": 1,
   "metadata": {
    "collapsed": true
   },
   "outputs": [],
   "source": [
    "# Criando uma classe chamada Circulo\n",
    "class Circulo(object):\n",
    "    \n",
    "    # O valor de pi é constante\n",
    "    pi = 3.14\n",
    "\n",
    "    # Quando um objeto desta classe for criado, este método será executado \n",
    "    # e o valor default do raio será 5.\n",
    "    def __init__(self, raio = 5):\n",
    "        self.raio = raio \n",
    "\n",
    "    # Esse método calcula a área. Self utiliza os atributos deste mesmo \n",
    "    # objeto\n",
    "    def area(self):\n",
    "        return (self.raio * self.raio) * Circulo.pi\n",
    "\n",
    "    # Método para gerar um novo raio\n",
    "    def setRaio(self, novo_raio):\n",
    "        self.raio = novo_raio\n",
    "\n",
    "    # Método para obter o raio do círculo\n",
    "    def getRaio(self):\n",
    "        return self.raio"
   ]
  },
  {
   "cell_type": "code",
   "execution_count": 2,
   "metadata": {
    "collapsed": true
   },
   "outputs": [],
   "source": [
    "# Criando o objeto circ. Uma instância da classe Circulo()\n",
    "circ = Circulo()"
   ]
  },
  {
   "cell_type": "code",
   "execution_count": 3,
   "metadata": {},
   "outputs": [
    {
     "data": {
      "text/plain": [
       "5"
      ]
     },
     "execution_count": 3,
     "metadata": {},
     "output_type": "execute_result"
    }
   ],
   "source": [
    "# Executando um método da classe Circulo\n",
    "circ.getRaio()"
   ]
  },
  {
   "cell_type": "code",
   "execution_count": 4,
   "metadata": {},
   "outputs": [
    {
     "name": "stdout",
     "output_type": "stream",
     "text": [
      "O raio é:  5\n"
     ]
    }
   ],
   "source": [
    "# Imprimindo o raio\n",
    "print ('O raio é: ', circ.getRaio())"
   ]
  },
  {
   "cell_type": "code",
   "execution_count": 5,
   "metadata": {},
   "outputs": [
    {
     "name": "stdout",
     "output_type": "stream",
     "text": [
      "Area é:  78.5\n"
     ]
    }
   ],
   "source": [
    "# Imprimindo a area\n",
    "print ('Area é: ', circ.area())"
   ]
  },
  {
   "cell_type": "code",
   "execution_count": 6,
   "metadata": {},
   "outputs": [],
   "source": [
    "# Gerando um novo valor para o raio do círculo\n",
    "circ.setRaio(3)"
   ]
  },
  {
   "cell_type": "code",
   "execution_count": 7,
   "metadata": {},
   "outputs": [
    {
     "name": "stdout",
     "output_type": "stream",
     "text": [
      "O novo raio é:  3\n"
     ]
    }
   ],
   "source": [
    "# Imprimindo o novo raio\n",
    "print ('O novo raio é: ', circ.getRaio())"
   ]
  },
  {
   "cell_type": "markdown",
   "metadata": {},
   "source": [
    "# Fim"
   ]
  },
  {
   "cell_type": "markdown",
   "metadata": {},
   "source": [
    "### Obrigado - Data Science Academy - <a href=http://facebook.com/dsacademy>facebook.com/dsacademybr</a>"
   ]
  }
 ],
 "metadata": {
  "kernelspec": {
   "display_name": "Python 3",
   "language": "python",
   "name": "python3"
  },
  "language_info": {
   "codemirror_mode": {
    "name": "ipython",
    "version": 3
   },
   "file_extension": ".py",
   "mimetype": "text/x-python",
   "name": "python",
   "nbconvert_exporter": "python",
   "pygments_lexer": "ipython3",
   "version": "3.6.1"
  }
 },
 "nbformat": 4,
 "nbformat_minor": 1
}
