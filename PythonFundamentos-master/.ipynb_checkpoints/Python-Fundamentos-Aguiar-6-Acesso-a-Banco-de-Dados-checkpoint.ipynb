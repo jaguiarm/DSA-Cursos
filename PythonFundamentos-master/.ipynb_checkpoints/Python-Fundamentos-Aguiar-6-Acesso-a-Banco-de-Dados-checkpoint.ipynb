{
 "cells": [
  {
   "cell_type": "markdown",
   "metadata": {
    "collapsed": true
   },
   "source": [
    "# Acesso a Banco de Dados"
   ]
  },
  {
   "cell_type": "code",
   "execution_count": 17,
   "metadata": {
    "collapsed": true
   },
   "outputs": [],
   "source": [
    "# sqlite\n",
    "import sqlite3"
   ]
  },
  {
   "cell_type": "code",
   "execution_count": 18,
   "metadata": {
    "collapsed": true
   },
   "outputs": [],
   "source": [
    "# criando conexão, se o bd não existir, ele é criado automaticamente\n",
    "# o bd será criado no mesmo diretorio deste Jupyter Notebook\n",
    "conn=sqlite3.connect('escola.db')"
   ]
  },
  {
   "cell_type": "code",
   "execution_count": 19,
   "metadata": {
    "collapsed": false
   },
   "outputs": [
    {
     "data": {
      "text/plain": [
       "sqlite3.Connection"
      ]
     },
     "execution_count": 19,
     "metadata": {},
     "output_type": "execute_result"
    }
   ],
   "source": [
    "type(conn)"
   ]
  },
  {
   "cell_type": "code",
   "execution_count": 20,
   "metadata": {
    "collapsed": true
   },
   "outputs": [],
   "source": [
    "cur=conn.cursor()"
   ]
  },
  {
   "cell_type": "code",
   "execution_count": 21,
   "metadata": {
    "collapsed": false
   },
   "outputs": [
    {
     "data": {
      "text/plain": [
       "sqlite3.Cursor"
      ]
     },
     "execution_count": 21,
     "metadata": {},
     "output_type": "execute_result"
    }
   ],
   "source": [
    "type(cur)"
   ]
  },
  {
   "cell_type": "code",
   "execution_count": 22,
   "metadata": {
    "collapsed": true
   },
   "outputs": [],
   "source": [
    "sql_create='create table cursos '\\\n",
    "'(id integer primary key, '\\\n",
    "'titulo varchar(100), '\\\n",
    "'categoria varchar(140) )'"
   ]
  },
  {
   "cell_type": "code",
   "execution_count": 23,
   "metadata": {
    "collapsed": false
   },
   "outputs": [
    {
     "ename": "OperationalError",
     "evalue": "table cursos already exists",
     "output_type": "error",
     "traceback": [
      "\u001b[0;31m---------------------------------------------------------------------------\u001b[0m",
      "\u001b[0;31mOperationalError\u001b[0m                          Traceback (most recent call last)",
      "\u001b[0;32m<ipython-input-23-eb519f57916a>\u001b[0m in \u001b[0;36m<module>\u001b[0;34m()\u001b[0m\n\u001b[0;32m----> 1\u001b[0;31m \u001b[0mcur\u001b[0m\u001b[0;34m.\u001b[0m\u001b[0mexecute\u001b[0m\u001b[0;34m(\u001b[0m\u001b[0msql_create\u001b[0m\u001b[0;34m)\u001b[0m\u001b[0;34m\u001b[0m\u001b[0m\n\u001b[0m",
      "\u001b[0;31mOperationalError\u001b[0m: table cursos already exists"
     ]
    }
   ],
   "source": [
    "cur.execute(sql_create)"
   ]
  },
  {
   "cell_type": "code",
   "execution_count": 24,
   "metadata": {
    "collapsed": true
   },
   "outputs": [],
   "source": [
    "sql_insert='insert into cursos values (?, ?, ?)'"
   ]
  },
  {
   "cell_type": "code",
   "execution_count": null,
   "metadata": {
    "collapsed": true
   },
   "outputs": [],
   "source": [
    "rec_set=[(1000,'Ciencia de Dados','Data Science'),\n",
    "         (1001,'Big Data Fundamentos','Big Data'),\n",
    "         (1002,'Python Fundamentos','Analise de Dados')]"
   ]
  },
  {
   "cell_type": "code",
   "execution_count": null,
   "metadata": {
    "collapsed": true
   },
   "outputs": [],
   "source": [
    "for rec in rec_set:\n",
    "    cur.execute(sql_insert, rec)"
   ]
  },
  {
   "cell_type": "code",
   "execution_count": null,
   "metadata": {
    "collapsed": true
   },
   "outputs": [],
   "source": [
    "conn.commit()"
   ]
  },
  {
   "cell_type": "code",
   "execution_count": null,
   "metadata": {
    "collapsed": true
   },
   "outputs": [],
   "source": [
    "sql_select = 'select * from cursos'"
   ]
  },
  {
   "cell_type": "code",
   "execution_count": null,
   "metadata": {
    "collapsed": false
   },
   "outputs": [],
   "source": [
    "cur.execute(sql_select)"
   ]
  },
  {
   "cell_type": "code",
   "execution_count": null,
   "metadata": {
    "collapsed": true
   },
   "outputs": [],
   "source": [
    "dados=cur.fetchall()"
   ]
  },
  {
   "cell_type": "code",
   "execution_count": null,
   "metadata": {
    "collapsed": false
   },
   "outputs": [],
   "source": [
    "for linha in dados:\n",
    "    print ('Curso ID:  %d, Titulo:  %s, Categoria: %s \\n' %linha)"
   ]
  },
  {
   "cell_type": "code",
   "execution_count": null,
   "metadata": {
    "collapsed": false
   },
   "outputs": [],
   "source": [
    "rec_Set=[(1003,'Gestão de dados com MongoDB','Big Data'),(1004,'R Fundamentos','Analise de Dados')]\n",
    "for rec in rec_Set:\n",
    "    cur.execute(sql_insert,rec)\n",
    "conn.commit()"
   ]
  },
  {
   "cell_type": "code",
   "execution_count": null,
   "metadata": {
    "collapsed": false
   },
   "outputs": [],
   "source": [
    "cur.execute('select * from cursos')\n",
    "recset = cur.fetchall()\n",
    "for rec in recset:\n",
    "    print('Curso ID:  %d, Titulo:  %s, Categoria: %s \\n' %rec)"
   ]
  },
  {
   "cell_type": "code",
   "execution_count": null,
   "metadata": {
    "collapsed": true
   },
   "outputs": [],
   "source": [
    "conn.close()"
   ]
  },
  {
   "cell_type": "code",
   "execution_count": null,
   "metadata": {
    "collapsed": false
   },
   "outputs": [],
   "source": [
    "import sqlite3\n",
    "conn = sqlite3.connect('dsa.db')\n",
    "c = conn.cursor()\n",
    "\n",
    "def create_table():\n",
    "    c.execute('create table if not exists produtos (id integer primary key autoincrement not null, date text, prod_name text, valor real)')\n",
    "\n",
    "def data_insert():\n",
    "    c.execute (\"insert into produtos values (10,'2016-05-02 14:32:11', 'Teclado', '90')\")\n",
    "    conn.commit()\n",
    "    c.close()\n",
    "    conn.close()\n",
    "\n",
    "\n"
   ]
  },
  {
   "cell_type": "code",
   "execution_count": null,
   "metadata": {
    "collapsed": true
   },
   "outputs": [],
   "source": [
    "create_table()"
   ]
  },
  {
   "cell_type": "code",
   "execution_count": null,
   "metadata": {
    "collapsed": true
   },
   "outputs": [],
   "source": [
    "data_insert()"
   ]
  },
  {
   "cell_type": "code",
   "execution_count": null,
   "metadata": {
    "collapsed": true
   },
   "outputs": [],
   "source": [
    "import sqlite3\n",
    "import random\n",
    "import time\n",
    "import datetime\n",
    "\n",
    "conn =sqlite3.connect('dsa.db')\n",
    "c = conn.cursor()\n",
    "\n",
    "\n",
    "def create_table():\n",
    "    c.execute('create table if not exists produtos (id integer primary key autoincrement not null, date text, prod_name text, valor real)')\n",
    "\n",
    "def data_insert():\n",
    "    c.execute (\"insert into produtos values (10,'2016-05-02 14:32:11', 'Teclado', '90')\")\n",
    "    conn.commit()\n",
    "    c.close()\n",
    "    conn.close()\n",
    "    \n",
    "def data_insert_var():\n",
    "    new_date = datetime.datetime.now()\n",
    "    new_prod_name ='Monitor'\n",
    "    new_valor = random.randrange(50,100)\n",
    "    c.execute (\"insert into produtos (date,prod_name,valor) values (?,?,?)\",\n",
    "              (new_date,new_prod_name,new_valor))\n",
    "    conn.commit()\n",
    "    "
   ]
  },
  {
   "cell_type": "code",
   "execution_count": null,
   "metadata": {
    "collapsed": true
   },
   "outputs": [],
   "source": [
    "for i in range(10):\n",
    "    data_insert_var()\n",
    "    time.sleep(1)"
   ]
  },
  {
   "cell_type": "code",
   "execution_count": null,
   "metadata": {
    "collapsed": true
   },
   "outputs": [],
   "source": [
    "c.close()\n",
    "conn.close()"
   ]
  },
  {
   "cell_type": "code",
   "execution_count": null,
   "metadata": {
    "collapsed": true
   },
   "outputs": [],
   "source": [
    "import sqlite3\n",
    "import random\n",
    "import time\n",
    "import datetime\n",
    "\n",
    "conn =sqlite3.connect('dsa.db')\n",
    "c = conn.cursor()\n",
    "\n",
    "\n",
    "def create_table():\n",
    "    c.execute('create table if not exists produtos (id integer primary key autoincrement not null, date text, prod_name text, valor real)')\n",
    "\n",
    "def data_insert():\n",
    "    c.execute (\"insert into produtos values (10,'2016-05-02 14:32:11', 'Teclado', '90')\")\n",
    "    conn.commit()\n",
    "    c.close()\n",
    "    conn.close()\n",
    "    \n",
    "def data_insert_var():\n",
    "    new_date = datetime.datetime.now()\n",
    "    new_prod_name ='Monitor'\n",
    "    new_valor = random.randrange(50,100)\n",
    "    c.execute (\"insert into produtos (date,prod_name,valor) values (?,?,?)\",\n",
    "              (new_date,new_prod_name,new_valor))\n",
    "    conn.commit()\n",
    "\n",
    "def leitura_todos_dados():\n",
    "    c.execute('select * from produtos')\n",
    "    for linha in c.fetchall():\n",
    "        print (linha)\n",
    "        \n",
    "def leitura_registros():\n",
    "    c.execute('select * from produtos where valor > 60.0')\n",
    "    for linha in c.fetchall():\n",
    "        print (linha)\n",
    "        \n",
    "def leitura_colunas():\n",
    "    c.execute('select * from produtos')\n",
    "    for linha in c.fetchall():\n",
    "        print (linha[3])\n",
    "    "
   ]
  },
  {
   "cell_type": "code",
   "execution_count": null,
   "metadata": {
    "collapsed": false
   },
   "outputs": [],
   "source": [
    "leitura_todos_dados()"
   ]
  },
  {
   "cell_type": "code",
   "execution_count": null,
   "metadata": {
    "collapsed": false
   },
   "outputs": [],
   "source": [
    "leitura_registros()"
   ]
  },
  {
   "cell_type": "code",
   "execution_count": null,
   "metadata": {
    "collapsed": false
   },
   "outputs": [],
   "source": [
    "leitura_colunas()"
   ]
  },
  {
   "cell_type": "code",
   "execution_count": null,
   "metadata": {
    "collapsed": true
   },
   "outputs": [],
   "source": [
    "c.close()\n",
    "conn.close()"
   ]
  },
  {
   "cell_type": "code",
   "execution_count": null,
   "metadata": {
    "collapsed": true
   },
   "outputs": [],
   "source": [
    "import sqlite3\n",
    "import random\n",
    "import time\n",
    "import datetime\n",
    "\n",
    "conn =sqlite3.connect('dsa.db')\n",
    "c = conn.cursor()\n",
    "\n",
    "\n",
    "def create_table():\n",
    "    c.execute('create table if not exists produtos (id integer primary key autoincrement not null, date text, prod_name text, valor real)')\n",
    "\n",
    "def data_insert():\n",
    "    c.execute (\"insert into produtos values (10,'2016-05-02 14:32:11', 'Teclado', '90')\")\n",
    "    conn.commit()\n",
    "    c.close()\n",
    "    conn.close()\n",
    "    \n",
    "def data_insert_var():\n",
    "    new_date = datetime.datetime.now()\n",
    "    new_prod_name ='Monitor'\n",
    "    new_valor = random.randrange(50,100)\n",
    "    c.execute (\"insert into produtos (date,prod_name,valor) values (?,?,?)\",\n",
    "              (new_date,new_prod_name,new_valor))\n",
    "    conn.commit()\n",
    "\n",
    "def leitura_todos_dados():\n",
    "    c.execute('select * from produtos')\n",
    "    for linha in c.fetchall():\n",
    "        print (linha)\n",
    "        \n",
    "def leitura_registros():\n",
    "    c.execute('select * from produtos where valor > 60.0')\n",
    "    for linha in c.fetchall():\n",
    "        print (linha)\n",
    "        \n",
    "def leitura_colunas():\n",
    "    c.execute('select * from produtos')\n",
    "    for linha in c.fetchall():\n",
    "        print (linha[3])\n",
    "        \n",
    "def atualiza_dados():\n",
    "    c.execute('update produtos set valor = 70.0 where valor = 73.0')\n",
    "    conn.commit()\n",
    "\n",
    "def remove_dados():\n",
    "    c. execute('delete from produtos where valor = 84.0')\n",
    "    conn.commit()\n",
    "    \n",
    "    "
   ]
  },
  {
   "cell_type": "code",
   "execution_count": null,
   "metadata": {
    "collapsed": true
   },
   "outputs": [],
   "source": [
    "atualiza_dados()"
   ]
  },
  {
   "cell_type": "code",
   "execution_count": null,
   "metadata": {
    "collapsed": false
   },
   "outputs": [],
   "source": [
    "leitura_todos_dados()"
   ]
  },
  {
   "cell_type": "code",
   "execution_count": null,
   "metadata": {
    "collapsed": false
   },
   "outputs": [],
   "source": [
    "remove_dados()"
   ]
  },
  {
   "cell_type": "code",
   "execution_count": null,
   "metadata": {
    "collapsed": false
   },
   "outputs": [],
   "source": [
    "leitura_todos_dados()"
   ]
  },
  {
   "cell_type": "markdown",
   "metadata": {},
   "source": [
    "# Criando Gráficos com Matplotlib"
   ]
  },
  {
   "cell_type": "code",
   "execution_count": 15,
   "metadata": {
    "collapsed": false
   },
   "outputs": [],
   "source": [
    "import sqlite3\n",
    "import random\n",
    "import time\n",
    "import datetime\n",
    "import matplotlib.pyplot as plt\n",
    "#instrucao abaixo indica que os graficos devem ser plotado no proprio notebook\n",
    "%matplotlib  notebook\n",
    "\n",
    "conn =sqlite3.connect('dsa.db')\n",
    "c = conn.cursor()\n",
    "\n",
    "\n",
    "def create_table():\n",
    "    c.execute('create table if not exists produtos (id integer primary key autoincrement not null, date text, prod_name text, valor real)')\n",
    "\n",
    "def data_insert():\n",
    "    c.execute (\"insert into produtos values (10,'2016-05-02 14:32:11', 'Teclado', '90')\")\n",
    "    conn.commit()\n",
    "    c.close()\n",
    "    conn.close()\n",
    "    \n",
    "def data_insert_var():\n",
    "    new_date = datetime.datetime.now()\n",
    "    new_prod_name ='Monitor'\n",
    "    new_valor = random.randrange(50,100)\n",
    "    c.execute (\"insert into produtos (date,prod_name,valor) values (?,?,?)\",\n",
    "              (new_date,new_prod_name,new_valor))\n",
    "    conn.commit()\n",
    "\n",
    "def leitura_todos_dados():\n",
    "    c.execute('select * from produtos')\n",
    "    for linha in c.fetchall():\n",
    "        print (linha)\n",
    "        \n",
    "def leitura_registros():\n",
    "    c.execute('select * from produtos where valor > 60.0')\n",
    "    for linha in c.fetchall():\n",
    "        print (linha)\n",
    "        \n",
    "def leitura_colunas():\n",
    "    c.execute('select * from produtos')\n",
    "    for linha in c.fetchall():\n",
    "        print (linha[3])\n",
    "        \n",
    "def atualiza_dados():\n",
    "    c.execute('update produtos set valor = 70.0 where valor = 73.0')\n",
    "    conn.commit()\n",
    "\n",
    "def remove_dados():\n",
    "    c. execute('delete from produtos where valor = 84.0')\n",
    "    conn.commit()\n",
    "    \n",
    "def dados_grafico():\n",
    "    c.execute('select id,valor from produtos')\n",
    "    ids =[]\n",
    "    valores=[]\n",
    "    dados=c.fetchall()\n",
    "    for linha in dados:\n",
    "        ids.append(linha[0])\n",
    "        valores.append(linha[1])\n",
    "    plt.bar(ids, valores)\n",
    "    plt.show()\n",
    "        \n",
    "    "
   ]
  },
  {
   "cell_type": "code",
   "execution_count": 16,
   "metadata": {
    "collapsed": false
   },
   "outputs": [
    {
     "data": {
      "application/javascript": [
       "/* Put everything inside the global mpl namespace */\n",
       "window.mpl = {};\n",
       "\n",
       "mpl.get_websocket_type = function() {\n",
       "    if (typeof(WebSocket) !== 'undefined') {\n",
       "        return WebSocket;\n",
       "    } else if (typeof(MozWebSocket) !== 'undefined') {\n",
       "        return MozWebSocket;\n",
       "    } else {\n",
       "        alert('Your browser does not have WebSocket support.' +\n",
       "              'Please try Chrome, Safari or Firefox ≥ 6. ' +\n",
       "              'Firefox 4 and 5 are also supported but you ' +\n",
       "              'have to enable WebSockets in about:config.');\n",
       "    };\n",
       "}\n",
       "\n",
       "mpl.figure = function(figure_id, websocket, ondownload, parent_element) {\n",
       "    this.id = figure_id;\n",
       "\n",
       "    this.ws = websocket;\n",
       "\n",
       "    this.supports_binary = (this.ws.binaryType != undefined);\n",
       "\n",
       "    if (!this.supports_binary) {\n",
       "        var warnings = document.getElementById(\"mpl-warnings\");\n",
       "        if (warnings) {\n",
       "            warnings.style.display = 'block';\n",
       "            warnings.textContent = (\n",
       "                \"This browser does not support binary websocket messages. \" +\n",
       "                    \"Performance may be slow.\");\n",
       "        }\n",
       "    }\n",
       "\n",
       "    this.imageObj = new Image();\n",
       "\n",
       "    this.context = undefined;\n",
       "    this.message = undefined;\n",
       "    this.canvas = undefined;\n",
       "    this.rubberband_canvas = undefined;\n",
       "    this.rubberband_context = undefined;\n",
       "    this.format_dropdown = undefined;\n",
       "\n",
       "    this.image_mode = 'full';\n",
       "\n",
       "    this.root = $('<div/>');\n",
       "    this._root_extra_style(this.root)\n",
       "    this.root.attr('style', 'display: inline-block');\n",
       "\n",
       "    $(parent_element).append(this.root);\n",
       "\n",
       "    this._init_header(this);\n",
       "    this._init_canvas(this);\n",
       "    this._init_toolbar(this);\n",
       "\n",
       "    var fig = this;\n",
       "\n",
       "    this.waiting = false;\n",
       "\n",
       "    this.ws.onopen =  function () {\n",
       "            fig.send_message(\"supports_binary\", {value: fig.supports_binary});\n",
       "            fig.send_message(\"send_image_mode\", {});\n",
       "            fig.send_message(\"refresh\", {});\n",
       "        }\n",
       "\n",
       "    this.imageObj.onload = function() {\n",
       "            if (fig.image_mode == 'full') {\n",
       "                // Full images could contain transparency (where diff images\n",
       "                // almost always do), so we need to clear the canvas so that\n",
       "                // there is no ghosting.\n",
       "                fig.context.clearRect(0, 0, fig.canvas.width, fig.canvas.height);\n",
       "            }\n",
       "            fig.context.drawImage(fig.imageObj, 0, 0);\n",
       "        };\n",
       "\n",
       "    this.imageObj.onunload = function() {\n",
       "        this.ws.close();\n",
       "    }\n",
       "\n",
       "    this.ws.onmessage = this._make_on_message_function(this);\n",
       "\n",
       "    this.ondownload = ondownload;\n",
       "}\n",
       "\n",
       "mpl.figure.prototype._init_header = function() {\n",
       "    var titlebar = $(\n",
       "        '<div class=\"ui-dialog-titlebar ui-widget-header ui-corner-all ' +\n",
       "        'ui-helper-clearfix\"/>');\n",
       "    var titletext = $(\n",
       "        '<div class=\"ui-dialog-title\" style=\"width: 100%; ' +\n",
       "        'text-align: center; padding: 3px;\"/>');\n",
       "    titlebar.append(titletext)\n",
       "    this.root.append(titlebar);\n",
       "    this.header = titletext[0];\n",
       "}\n",
       "\n",
       "\n",
       "\n",
       "mpl.figure.prototype._canvas_extra_style = function(canvas_div) {\n",
       "\n",
       "}\n",
       "\n",
       "\n",
       "mpl.figure.prototype._root_extra_style = function(canvas_div) {\n",
       "\n",
       "}\n",
       "\n",
       "mpl.figure.prototype._init_canvas = function() {\n",
       "    var fig = this;\n",
       "\n",
       "    var canvas_div = $('<div/>');\n",
       "\n",
       "    canvas_div.attr('style', 'position: relative; clear: both; outline: 0');\n",
       "\n",
       "    function canvas_keyboard_event(event) {\n",
       "        return fig.key_event(event, event['data']);\n",
       "    }\n",
       "\n",
       "    canvas_div.keydown('key_press', canvas_keyboard_event);\n",
       "    canvas_div.keyup('key_release', canvas_keyboard_event);\n",
       "    this.canvas_div = canvas_div\n",
       "    this._canvas_extra_style(canvas_div)\n",
       "    this.root.append(canvas_div);\n",
       "\n",
       "    var canvas = $('<canvas/>');\n",
       "    canvas.addClass('mpl-canvas');\n",
       "    canvas.attr('style', \"left: 0; top: 0; z-index: 0; outline: 0\")\n",
       "\n",
       "    this.canvas = canvas[0];\n",
       "    this.context = canvas[0].getContext(\"2d\");\n",
       "\n",
       "    var rubberband = $('<canvas/>');\n",
       "    rubberband.attr('style', \"position: absolute; left: 0; top: 0; z-index: 1;\")\n",
       "\n",
       "    var pass_mouse_events = true;\n",
       "\n",
       "    canvas_div.resizable({\n",
       "        start: function(event, ui) {\n",
       "            pass_mouse_events = false;\n",
       "        },\n",
       "        resize: function(event, ui) {\n",
       "            fig.request_resize(ui.size.width, ui.size.height);\n",
       "        },\n",
       "        stop: function(event, ui) {\n",
       "            pass_mouse_events = true;\n",
       "            fig.request_resize(ui.size.width, ui.size.height);\n",
       "        },\n",
       "    });\n",
       "\n",
       "    function mouse_event_fn(event) {\n",
       "        if (pass_mouse_events)\n",
       "            return fig.mouse_event(event, event['data']);\n",
       "    }\n",
       "\n",
       "    rubberband.mousedown('button_press', mouse_event_fn);\n",
       "    rubberband.mouseup('button_release', mouse_event_fn);\n",
       "    // Throttle sequential mouse events to 1 every 20ms.\n",
       "    rubberband.mousemove('motion_notify', mouse_event_fn);\n",
       "\n",
       "    rubberband.mouseenter('figure_enter', mouse_event_fn);\n",
       "    rubberband.mouseleave('figure_leave', mouse_event_fn);\n",
       "\n",
       "    canvas_div.on(\"wheel\", function (event) {\n",
       "        event = event.originalEvent;\n",
       "        event['data'] = 'scroll'\n",
       "        if (event.deltaY < 0) {\n",
       "            event.step = 1;\n",
       "        } else {\n",
       "            event.step = -1;\n",
       "        }\n",
       "        mouse_event_fn(event);\n",
       "    });\n",
       "\n",
       "    canvas_div.append(canvas);\n",
       "    canvas_div.append(rubberband);\n",
       "\n",
       "    this.rubberband = rubberband;\n",
       "    this.rubberband_canvas = rubberband[0];\n",
       "    this.rubberband_context = rubberband[0].getContext(\"2d\");\n",
       "    this.rubberband_context.strokeStyle = \"#000000\";\n",
       "\n",
       "    this._resize_canvas = function(width, height) {\n",
       "        // Keep the size of the canvas, canvas container, and rubber band\n",
       "        // canvas in synch.\n",
       "        canvas_div.css('width', width)\n",
       "        canvas_div.css('height', height)\n",
       "\n",
       "        canvas.attr('width', width);\n",
       "        canvas.attr('height', height);\n",
       "\n",
       "        rubberband.attr('width', width);\n",
       "        rubberband.attr('height', height);\n",
       "    }\n",
       "\n",
       "    // Set the figure to an initial 600x600px, this will subsequently be updated\n",
       "    // upon first draw.\n",
       "    this._resize_canvas(600, 600);\n",
       "\n",
       "    // Disable right mouse context menu.\n",
       "    $(this.rubberband_canvas).bind(\"contextmenu\",function(e){\n",
       "        return false;\n",
       "    });\n",
       "\n",
       "    function set_focus () {\n",
       "        canvas.focus();\n",
       "        canvas_div.focus();\n",
       "    }\n",
       "\n",
       "    window.setTimeout(set_focus, 100);\n",
       "}\n",
       "\n",
       "mpl.figure.prototype._init_toolbar = function() {\n",
       "    var fig = this;\n",
       "\n",
       "    var nav_element = $('<div/>')\n",
       "    nav_element.attr('style', 'width: 100%');\n",
       "    this.root.append(nav_element);\n",
       "\n",
       "    // Define a callback function for later on.\n",
       "    function toolbar_event(event) {\n",
       "        return fig.toolbar_button_onclick(event['data']);\n",
       "    }\n",
       "    function toolbar_mouse_event(event) {\n",
       "        return fig.toolbar_button_onmouseover(event['data']);\n",
       "    }\n",
       "\n",
       "    for(var toolbar_ind in mpl.toolbar_items) {\n",
       "        var name = mpl.toolbar_items[toolbar_ind][0];\n",
       "        var tooltip = mpl.toolbar_items[toolbar_ind][1];\n",
       "        var image = mpl.toolbar_items[toolbar_ind][2];\n",
       "        var method_name = mpl.toolbar_items[toolbar_ind][3];\n",
       "\n",
       "        if (!name) {\n",
       "            // put a spacer in here.\n",
       "            continue;\n",
       "        }\n",
       "        var button = $('<button/>');\n",
       "        button.addClass('ui-button ui-widget ui-state-default ui-corner-all ' +\n",
       "                        'ui-button-icon-only');\n",
       "        button.attr('role', 'button');\n",
       "        button.attr('aria-disabled', 'false');\n",
       "        button.click(method_name, toolbar_event);\n",
       "        button.mouseover(tooltip, toolbar_mouse_event);\n",
       "\n",
       "        var icon_img = $('<span/>');\n",
       "        icon_img.addClass('ui-button-icon-primary ui-icon');\n",
       "        icon_img.addClass(image);\n",
       "        icon_img.addClass('ui-corner-all');\n",
       "\n",
       "        var tooltip_span = $('<span/>');\n",
       "        tooltip_span.addClass('ui-button-text');\n",
       "        tooltip_span.html(tooltip);\n",
       "\n",
       "        button.append(icon_img);\n",
       "        button.append(tooltip_span);\n",
       "\n",
       "        nav_element.append(button);\n",
       "    }\n",
       "\n",
       "    var fmt_picker_span = $('<span/>');\n",
       "\n",
       "    var fmt_picker = $('<select/>');\n",
       "    fmt_picker.addClass('mpl-toolbar-option ui-widget ui-widget-content');\n",
       "    fmt_picker_span.append(fmt_picker);\n",
       "    nav_element.append(fmt_picker_span);\n",
       "    this.format_dropdown = fmt_picker[0];\n",
       "\n",
       "    for (var ind in mpl.extensions) {\n",
       "        var fmt = mpl.extensions[ind];\n",
       "        var option = $(\n",
       "            '<option/>', {selected: fmt === mpl.default_extension}).html(fmt);\n",
       "        fmt_picker.append(option)\n",
       "    }\n",
       "\n",
       "    // Add hover states to the ui-buttons\n",
       "    $( \".ui-button\" ).hover(\n",
       "        function() { $(this).addClass(\"ui-state-hover\");},\n",
       "        function() { $(this).removeClass(\"ui-state-hover\");}\n",
       "    );\n",
       "\n",
       "    var status_bar = $('<span class=\"mpl-message\"/>');\n",
       "    nav_element.append(status_bar);\n",
       "    this.message = status_bar[0];\n",
       "}\n",
       "\n",
       "mpl.figure.prototype.request_resize = function(x_pixels, y_pixels) {\n",
       "    // Request matplotlib to resize the figure. Matplotlib will then trigger a resize in the client,\n",
       "    // which will in turn request a refresh of the image.\n",
       "    this.send_message('resize', {'width': x_pixels, 'height': y_pixels});\n",
       "}\n",
       "\n",
       "mpl.figure.prototype.send_message = function(type, properties) {\n",
       "    properties['type'] = type;\n",
       "    properties['figure_id'] = this.id;\n",
       "    this.ws.send(JSON.stringify(properties));\n",
       "}\n",
       "\n",
       "mpl.figure.prototype.send_draw_message = function() {\n",
       "    if (!this.waiting) {\n",
       "        this.waiting = true;\n",
       "        this.ws.send(JSON.stringify({type: \"draw\", figure_id: this.id}));\n",
       "    }\n",
       "}\n",
       "\n",
       "\n",
       "mpl.figure.prototype.handle_save = function(fig, msg) {\n",
       "    var format_dropdown = fig.format_dropdown;\n",
       "    var format = format_dropdown.options[format_dropdown.selectedIndex].value;\n",
       "    fig.ondownload(fig, format);\n",
       "}\n",
       "\n",
       "\n",
       "mpl.figure.prototype.handle_resize = function(fig, msg) {\n",
       "    var size = msg['size'];\n",
       "    if (size[0] != fig.canvas.width || size[1] != fig.canvas.height) {\n",
       "        fig._resize_canvas(size[0], size[1]);\n",
       "        fig.send_message(\"refresh\", {});\n",
       "    };\n",
       "}\n",
       "\n",
       "mpl.figure.prototype.handle_rubberband = function(fig, msg) {\n",
       "    var x0 = msg['x0'];\n",
       "    var y0 = fig.canvas.height - msg['y0'];\n",
       "    var x1 = msg['x1'];\n",
       "    var y1 = fig.canvas.height - msg['y1'];\n",
       "    x0 = Math.floor(x0) + 0.5;\n",
       "    y0 = Math.floor(y0) + 0.5;\n",
       "    x1 = Math.floor(x1) + 0.5;\n",
       "    y1 = Math.floor(y1) + 0.5;\n",
       "    var min_x = Math.min(x0, x1);\n",
       "    var min_y = Math.min(y0, y1);\n",
       "    var width = Math.abs(x1 - x0);\n",
       "    var height = Math.abs(y1 - y0);\n",
       "\n",
       "    fig.rubberband_context.clearRect(\n",
       "        0, 0, fig.canvas.width, fig.canvas.height);\n",
       "\n",
       "    fig.rubberband_context.strokeRect(min_x, min_y, width, height);\n",
       "}\n",
       "\n",
       "mpl.figure.prototype.handle_figure_label = function(fig, msg) {\n",
       "    // Updates the figure title.\n",
       "    fig.header.textContent = msg['label'];\n",
       "}\n",
       "\n",
       "mpl.figure.prototype.handle_cursor = function(fig, msg) {\n",
       "    var cursor = msg['cursor'];\n",
       "    switch(cursor)\n",
       "    {\n",
       "    case 0:\n",
       "        cursor = 'pointer';\n",
       "        break;\n",
       "    case 1:\n",
       "        cursor = 'default';\n",
       "        break;\n",
       "    case 2:\n",
       "        cursor = 'crosshair';\n",
       "        break;\n",
       "    case 3:\n",
       "        cursor = 'move';\n",
       "        break;\n",
       "    }\n",
       "    fig.rubberband_canvas.style.cursor = cursor;\n",
       "}\n",
       "\n",
       "mpl.figure.prototype.handle_message = function(fig, msg) {\n",
       "    fig.message.textContent = msg['message'];\n",
       "}\n",
       "\n",
       "mpl.figure.prototype.handle_draw = function(fig, msg) {\n",
       "    // Request the server to send over a new figure.\n",
       "    fig.send_draw_message();\n",
       "}\n",
       "\n",
       "mpl.figure.prototype.handle_image_mode = function(fig, msg) {\n",
       "    fig.image_mode = msg['mode'];\n",
       "}\n",
       "\n",
       "mpl.figure.prototype.updated_canvas_event = function() {\n",
       "    // Called whenever the canvas gets updated.\n",
       "    this.send_message(\"ack\", {});\n",
       "}\n",
       "\n",
       "// A function to construct a web socket function for onmessage handling.\n",
       "// Called in the figure constructor.\n",
       "mpl.figure.prototype._make_on_message_function = function(fig) {\n",
       "    return function socket_on_message(evt) {\n",
       "        if (evt.data instanceof Blob) {\n",
       "            /* FIXME: We get \"Resource interpreted as Image but\n",
       "             * transferred with MIME type text/plain:\" errors on\n",
       "             * Chrome.  But how to set the MIME type?  It doesn't seem\n",
       "             * to be part of the websocket stream */\n",
       "            evt.data.type = \"image/png\";\n",
       "\n",
       "            /* Free the memory for the previous frames */\n",
       "            if (fig.imageObj.src) {\n",
       "                (window.URL || window.webkitURL).revokeObjectURL(\n",
       "                    fig.imageObj.src);\n",
       "            }\n",
       "\n",
       "            fig.imageObj.src = (window.URL || window.webkitURL).createObjectURL(\n",
       "                evt.data);\n",
       "            fig.updated_canvas_event();\n",
       "            fig.waiting = false;\n",
       "            return;\n",
       "        }\n",
       "        else if (typeof evt.data === 'string' && evt.data.slice(0, 21) == \"data:image/png;base64\") {\n",
       "            fig.imageObj.src = evt.data;\n",
       "            fig.updated_canvas_event();\n",
       "            fig.waiting = false;\n",
       "            return;\n",
       "        }\n",
       "\n",
       "        var msg = JSON.parse(evt.data);\n",
       "        var msg_type = msg['type'];\n",
       "\n",
       "        // Call the  \"handle_{type}\" callback, which takes\n",
       "        // the figure and JSON message as its only arguments.\n",
       "        try {\n",
       "            var callback = fig[\"handle_\" + msg_type];\n",
       "        } catch (e) {\n",
       "            console.log(\"No handler for the '\" + msg_type + \"' message type: \", msg);\n",
       "            return;\n",
       "        }\n",
       "\n",
       "        if (callback) {\n",
       "            try {\n",
       "                // console.log(\"Handling '\" + msg_type + \"' message: \", msg);\n",
       "                callback(fig, msg);\n",
       "            } catch (e) {\n",
       "                console.log(\"Exception inside the 'handler_\" + msg_type + \"' callback:\", e, e.stack, msg);\n",
       "            }\n",
       "        }\n",
       "    };\n",
       "}\n",
       "\n",
       "// from http://stackoverflow.com/questions/1114465/getting-mouse-location-in-canvas\n",
       "mpl.findpos = function(e) {\n",
       "    //this section is from http://www.quirksmode.org/js/events_properties.html\n",
       "    var targ;\n",
       "    if (!e)\n",
       "        e = window.event;\n",
       "    if (e.target)\n",
       "        targ = e.target;\n",
       "    else if (e.srcElement)\n",
       "        targ = e.srcElement;\n",
       "    if (targ.nodeType == 3) // defeat Safari bug\n",
       "        targ = targ.parentNode;\n",
       "\n",
       "    // jQuery normalizes the pageX and pageY\n",
       "    // pageX,Y are the mouse positions relative to the document\n",
       "    // offset() returns the position of the element relative to the document\n",
       "    var x = e.pageX - $(targ).offset().left;\n",
       "    var y = e.pageY - $(targ).offset().top;\n",
       "\n",
       "    return {\"x\": x, \"y\": y};\n",
       "};\n",
       "\n",
       "/*\n",
       " * return a copy of an object with only non-object keys\n",
       " * we need this to avoid circular references\n",
       " * http://stackoverflow.com/a/24161582/3208463\n",
       " */\n",
       "function simpleKeys (original) {\n",
       "  return Object.keys(original).reduce(function (obj, key) {\n",
       "    if (typeof original[key] !== 'object')\n",
       "        obj[key] = original[key]\n",
       "    return obj;\n",
       "  }, {});\n",
       "}\n",
       "\n",
       "mpl.figure.prototype.mouse_event = function(event, name) {\n",
       "    var canvas_pos = mpl.findpos(event)\n",
       "\n",
       "    if (name === 'button_press')\n",
       "    {\n",
       "        this.canvas.focus();\n",
       "        this.canvas_div.focus();\n",
       "    }\n",
       "\n",
       "    var x = canvas_pos.x;\n",
       "    var y = canvas_pos.y;\n",
       "\n",
       "    this.send_message(name, {x: x, y: y, button: event.button,\n",
       "                             step: event.step,\n",
       "                             guiEvent: simpleKeys(event)});\n",
       "\n",
       "    /* This prevents the web browser from automatically changing to\n",
       "     * the text insertion cursor when the button is pressed.  We want\n",
       "     * to control all of the cursor setting manually through the\n",
       "     * 'cursor' event from matplotlib */\n",
       "    event.preventDefault();\n",
       "    return false;\n",
       "}\n",
       "\n",
       "mpl.figure.prototype._key_event_extra = function(event, name) {\n",
       "    // Handle any extra behaviour associated with a key event\n",
       "}\n",
       "\n",
       "mpl.figure.prototype.key_event = function(event, name) {\n",
       "\n",
       "    // Prevent repeat events\n",
       "    if (name == 'key_press')\n",
       "    {\n",
       "        if (event.which === this._key)\n",
       "            return;\n",
       "        else\n",
       "            this._key = event.which;\n",
       "    }\n",
       "    if (name == 'key_release')\n",
       "        this._key = null;\n",
       "\n",
       "    var value = '';\n",
       "    if (event.ctrlKey && event.which != 17)\n",
       "        value += \"ctrl+\";\n",
       "    if (event.altKey && event.which != 18)\n",
       "        value += \"alt+\";\n",
       "    if (event.shiftKey && event.which != 16)\n",
       "        value += \"shift+\";\n",
       "\n",
       "    value += 'k';\n",
       "    value += event.which.toString();\n",
       "\n",
       "    this._key_event_extra(event, name);\n",
       "\n",
       "    this.send_message(name, {key: value,\n",
       "                             guiEvent: simpleKeys(event)});\n",
       "    return false;\n",
       "}\n",
       "\n",
       "mpl.figure.prototype.toolbar_button_onclick = function(name) {\n",
       "    if (name == 'download') {\n",
       "        this.handle_save(this, null);\n",
       "    } else {\n",
       "        this.send_message(\"toolbar_button\", {name: name});\n",
       "    }\n",
       "};\n",
       "\n",
       "mpl.figure.prototype.toolbar_button_onmouseover = function(tooltip) {\n",
       "    this.message.textContent = tooltip;\n",
       "};\n",
       "mpl.toolbar_items = [[\"Home\", \"Reset original view\", \"fa fa-home icon-home\", \"home\"], [\"Back\", \"Back to  previous view\", \"fa fa-arrow-left icon-arrow-left\", \"back\"], [\"Forward\", \"Forward to next view\", \"fa fa-arrow-right icon-arrow-right\", \"forward\"], [\"\", \"\", \"\", \"\"], [\"Pan\", \"Pan axes with left mouse, zoom with right\", \"fa fa-arrows icon-move\", \"pan\"], [\"Zoom\", \"Zoom to rectangle\", \"fa fa-square-o icon-check-empty\", \"zoom\"], [\"\", \"\", \"\", \"\"], [\"Download\", \"Download plot\", \"fa fa-floppy-o icon-save\", \"download\"]];\n",
       "\n",
       "mpl.extensions = [\"eps\", \"jpeg\", \"pdf\", \"png\", \"ps\", \"raw\", \"svg\", \"tif\"];\n",
       "\n",
       "mpl.default_extension = \"png\";var comm_websocket_adapter = function(comm) {\n",
       "    // Create a \"websocket\"-like object which calls the given IPython comm\n",
       "    // object with the appropriate methods. Currently this is a non binary\n",
       "    // socket, so there is still some room for performance tuning.\n",
       "    var ws = {};\n",
       "\n",
       "    ws.close = function() {\n",
       "        comm.close()\n",
       "    };\n",
       "    ws.send = function(m) {\n",
       "        //console.log('sending', m);\n",
       "        comm.send(m);\n",
       "    };\n",
       "    // Register the callback with on_msg.\n",
       "    comm.on_msg(function(msg) {\n",
       "        //console.log('receiving', msg['content']['data'], msg);\n",
       "        // Pass the mpl event to the overriden (by mpl) onmessage function.\n",
       "        ws.onmessage(msg['content']['data'])\n",
       "    });\n",
       "    return ws;\n",
       "}\n",
       "\n",
       "mpl.mpl_figure_comm = function(comm, msg) {\n",
       "    // This is the function which gets called when the mpl process\n",
       "    // starts-up an IPython Comm through the \"matplotlib\" channel.\n",
       "\n",
       "    var id = msg.content.data.id;\n",
       "    // Get hold of the div created by the display call when the Comm\n",
       "    // socket was opened in Python.\n",
       "    var element = $(\"#\" + id);\n",
       "    var ws_proxy = comm_websocket_adapter(comm)\n",
       "\n",
       "    function ondownload(figure, format) {\n",
       "        window.open(figure.imageObj.src);\n",
       "    }\n",
       "\n",
       "    var fig = new mpl.figure(id, ws_proxy,\n",
       "                           ondownload,\n",
       "                           element.get(0));\n",
       "\n",
       "    // Call onopen now - mpl needs it, as it is assuming we've passed it a real\n",
       "    // web socket which is closed, not our websocket->open comm proxy.\n",
       "    ws_proxy.onopen();\n",
       "\n",
       "    fig.parent_element = element.get(0);\n",
       "    fig.cell_info = mpl.find_output_cell(\"<div id='\" + id + \"'></div>\");\n",
       "    if (!fig.cell_info) {\n",
       "        console.error(\"Failed to find cell for figure\", id, fig);\n",
       "        return;\n",
       "    }\n",
       "\n",
       "    var output_index = fig.cell_info[2]\n",
       "    var cell = fig.cell_info[0];\n",
       "\n",
       "};\n",
       "\n",
       "mpl.figure.prototype.handle_close = function(fig, msg) {\n",
       "    fig.root.unbind('remove')\n",
       "\n",
       "    // Update the output cell to use the data from the current canvas.\n",
       "    fig.push_to_output();\n",
       "    var dataURL = fig.canvas.toDataURL();\n",
       "    // Re-enable the keyboard manager in IPython - without this line, in FF,\n",
       "    // the notebook keyboard shortcuts fail.\n",
       "    IPython.keyboard_manager.enable()\n",
       "    $(fig.parent_element).html('<img src=\"' + dataURL + '\">');\n",
       "    fig.close_ws(fig, msg);\n",
       "}\n",
       "\n",
       "mpl.figure.prototype.close_ws = function(fig, msg){\n",
       "    fig.send_message('closing', msg);\n",
       "    // fig.ws.close()\n",
       "}\n",
       "\n",
       "mpl.figure.prototype.push_to_output = function(remove_interactive) {\n",
       "    // Turn the data on the canvas into data in the output cell.\n",
       "    var dataURL = this.canvas.toDataURL();\n",
       "    this.cell_info[1]['text/html'] = '<img src=\"' + dataURL + '\">';\n",
       "}\n",
       "\n",
       "mpl.figure.prototype.updated_canvas_event = function() {\n",
       "    // Tell IPython that the notebook contents must change.\n",
       "    IPython.notebook.set_dirty(true);\n",
       "    this.send_message(\"ack\", {});\n",
       "    var fig = this;\n",
       "    // Wait a second, then push the new image to the DOM so\n",
       "    // that it is saved nicely (might be nice to debounce this).\n",
       "    setTimeout(function () { fig.push_to_output() }, 1000);\n",
       "}\n",
       "\n",
       "mpl.figure.prototype._init_toolbar = function() {\n",
       "    var fig = this;\n",
       "\n",
       "    var nav_element = $('<div/>')\n",
       "    nav_element.attr('style', 'width: 100%');\n",
       "    this.root.append(nav_element);\n",
       "\n",
       "    // Define a callback function for later on.\n",
       "    function toolbar_event(event) {\n",
       "        return fig.toolbar_button_onclick(event['data']);\n",
       "    }\n",
       "    function toolbar_mouse_event(event) {\n",
       "        return fig.toolbar_button_onmouseover(event['data']);\n",
       "    }\n",
       "\n",
       "    for(var toolbar_ind in mpl.toolbar_items){\n",
       "        var name = mpl.toolbar_items[toolbar_ind][0];\n",
       "        var tooltip = mpl.toolbar_items[toolbar_ind][1];\n",
       "        var image = mpl.toolbar_items[toolbar_ind][2];\n",
       "        var method_name = mpl.toolbar_items[toolbar_ind][3];\n",
       "\n",
       "        if (!name) { continue; };\n",
       "\n",
       "        var button = $('<button class=\"btn btn-default\" href=\"#\" title=\"' + name + '\"><i class=\"fa ' + image + ' fa-lg\"></i></button>');\n",
       "        button.click(method_name, toolbar_event);\n",
       "        button.mouseover(tooltip, toolbar_mouse_event);\n",
       "        nav_element.append(button);\n",
       "    }\n",
       "\n",
       "    // Add the status bar.\n",
       "    var status_bar = $('<span class=\"mpl-message\" style=\"text-align:right; float: right;\"/>');\n",
       "    nav_element.append(status_bar);\n",
       "    this.message = status_bar[0];\n",
       "\n",
       "    // Add the close button to the window.\n",
       "    var buttongrp = $('<div class=\"btn-group inline pull-right\"></div>');\n",
       "    var button = $('<button class=\"btn btn-mini btn-primary\" href=\"#\" title=\"Stop Interaction\"><i class=\"fa fa-power-off icon-remove icon-large\"></i></button>');\n",
       "    button.click(function (evt) { fig.handle_close(fig, {}); } );\n",
       "    button.mouseover('Stop Interaction', toolbar_mouse_event);\n",
       "    buttongrp.append(button);\n",
       "    var titlebar = this.root.find($('.ui-dialog-titlebar'));\n",
       "    titlebar.prepend(buttongrp);\n",
       "}\n",
       "\n",
       "mpl.figure.prototype._root_extra_style = function(el){\n",
       "    var fig = this\n",
       "    el.on(\"remove\", function(){\n",
       "\tfig.close_ws(fig, {});\n",
       "    });\n",
       "}\n",
       "\n",
       "mpl.figure.prototype._canvas_extra_style = function(el){\n",
       "    // this is important to make the div 'focusable\n",
       "    el.attr('tabindex', 0)\n",
       "    // reach out to IPython and tell the keyboard manager to turn it's self\n",
       "    // off when our div gets focus\n",
       "\n",
       "    // location in version 3\n",
       "    if (IPython.notebook.keyboard_manager) {\n",
       "        IPython.notebook.keyboard_manager.register_events(el);\n",
       "    }\n",
       "    else {\n",
       "        // location in version 2\n",
       "        IPython.keyboard_manager.register_events(el);\n",
       "    }\n",
       "\n",
       "}\n",
       "\n",
       "mpl.figure.prototype._key_event_extra = function(event, name) {\n",
       "    var manager = IPython.notebook.keyboard_manager;\n",
       "    if (!manager)\n",
       "        manager = IPython.keyboard_manager;\n",
       "\n",
       "    // Check for shift+enter\n",
       "    if (event.shiftKey && event.which == 13) {\n",
       "        this.canvas_div.blur();\n",
       "        // select the cell after this one\n",
       "        var index = IPython.notebook.find_cell_index(this.cell_info[0]);\n",
       "        IPython.notebook.select(index + 1);\n",
       "    }\n",
       "}\n",
       "\n",
       "mpl.figure.prototype.handle_save = function(fig, msg) {\n",
       "    fig.ondownload(fig, null);\n",
       "}\n",
       "\n",
       "\n",
       "mpl.find_output_cell = function(html_output) {\n",
       "    // Return the cell and output element which can be found *uniquely* in the notebook.\n",
       "    // Note - this is a bit hacky, but it is done because the \"notebook_saving.Notebook\"\n",
       "    // IPython event is triggered only after the cells have been serialised, which for\n",
       "    // our purposes (turning an active figure into a static one), is too late.\n",
       "    var cells = IPython.notebook.get_cells();\n",
       "    var ncells = cells.length;\n",
       "    for (var i=0; i<ncells; i++) {\n",
       "        var cell = cells[i];\n",
       "        if (cell.cell_type === 'code'){\n",
       "            for (var j=0; j<cell.output_area.outputs.length; j++) {\n",
       "                var data = cell.output_area.outputs[j];\n",
       "                if (data.data) {\n",
       "                    // IPython >= 3 moved mimebundle to data attribute of output\n",
       "                    data = data.data;\n",
       "                }\n",
       "                if (data['text/html'] == html_output) {\n",
       "                    return [cell, data, j];\n",
       "                }\n",
       "            }\n",
       "        }\n",
       "    }\n",
       "}\n",
       "\n",
       "// Register the function which deals with the matplotlib target/channel.\n",
       "// The kernel may be null if the page has been refreshed.\n",
       "if (IPython.notebook.kernel != null) {\n",
       "    IPython.notebook.kernel.comm_manager.register_target('matplotlib', mpl.mpl_figure_comm);\n",
       "}\n"
      ],
      "text/plain": [
       "<IPython.core.display.Javascript object>"
      ]
     },
     "metadata": {},
     "output_type": "display_data"
    },
    {
     "data": {
      "text/html": [
       "<img src=\"data:image/png;base64,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\">"
      ],
      "text/plain": [
       "<IPython.core.display.HTML object>"
      ]
     },
     "metadata": {},
     "output_type": "display_data"
    }
   ],
   "source": [
    "dados_grafico()"
   ]
  },
  {
   "cell_type": "markdown",
   "metadata": {
    "collapsed": true
   },
   "source": [
    "# Usando MongoDB"
   ]
  },
  {
   "cell_type": "code",
   "execution_count": 26,
   "metadata": {
    "collapsed": false
   },
   "outputs": [],
   "source": [
    "from pymongo import MongoClient"
   ]
  },
  {
   "cell_type": "code",
   "execution_count": 27,
   "metadata": {
    "collapsed": true
   },
   "outputs": [],
   "source": [
    "conn = MongoClient('localhost',27017)"
   ]
  },
  {
   "cell_type": "code",
   "execution_count": 28,
   "metadata": {
    "collapsed": false
   },
   "outputs": [
    {
     "data": {
      "text/plain": [
       "pymongo.mongo_client.MongoClient"
      ]
     },
     "execution_count": 28,
     "metadata": {},
     "output_type": "execute_result"
    }
   ],
   "source": [
    "type(conn)"
   ]
  },
  {
   "cell_type": "code",
   "execution_count": 29,
   "metadata": {
    "collapsed": true
   },
   "outputs": [],
   "source": [
    "# 1 instancia do mongo pode ter vários bancos\n",
    "# criando o banco cadastrodb\n",
    "db = conn.cadastrodb"
   ]
  },
  {
   "cell_type": "code",
   "execution_count": 30,
   "metadata": {
    "collapsed": false
   },
   "outputs": [
    {
     "data": {
      "text/plain": [
       "pymongo.database.Database"
      ]
     },
     "execution_count": 30,
     "metadata": {},
     "output_type": "execute_result"
    }
   ],
   "source": [
    "type(db)"
   ]
  },
  {
   "cell_type": "code",
   "execution_count": 31,
   "metadata": {
    "collapsed": true
   },
   "outputs": [],
   "source": [
    "collection = db.cadastrodb"
   ]
  },
  {
   "cell_type": "code",
   "execution_count": 32,
   "metadata": {
    "collapsed": false
   },
   "outputs": [
    {
     "data": {
      "text/plain": [
       "pymongo.collection.Collection"
      ]
     },
     "execution_count": 32,
     "metadata": {},
     "output_type": "execute_result"
    }
   ],
   "source": [
    "type(collection)"
   ]
  },
  {
   "cell_type": "markdown",
   "metadata": {},
   "source": [
    "###### NOTA IMPORTANTE: Nenhum dos comandos acima executou efetivamente qq coisa no banco. Coleçõe e banco de dados em MongoDB são criados posteriormente quando o primeiro documento é inserido"
   ]
  },
  {
   "cell_type": "code",
   "execution_count": 33,
   "metadata": {
    "collapsed": true
   },
   "outputs": [],
   "source": [
    "import datetime"
   ]
  },
  {
   "cell_type": "markdown",
   "metadata": {},
   "source": [
    "###### Dados no Mongo são representados (e armazenados) usando JSON. Com o Pymongousamos dicionarios pra representar documentos"
   ]
  },
  {
   "cell_type": "code",
   "execution_count": 34,
   "metadata": {
    "collapsed": true
   },
   "outputs": [],
   "source": [
    "post1={'codigo':'ID-9987725', 'prod_name':'Geladeira',\n",
    "      'marcas':['brastemp','consul','electrolux'],\n",
    "      'data_cadastro':datetime.datetime.utcnow()}"
   ]
  },
  {
   "cell_type": "code",
   "execution_count": 35,
   "metadata": {
    "collapsed": false
   },
   "outputs": [
    {
     "data": {
      "text/plain": [
       "dict"
      ]
     },
     "execution_count": 35,
     "metadata": {},
     "output_type": "execute_result"
    }
   ],
   "source": [
    "type(post1)"
   ]
  },
  {
   "cell_type": "code",
   "execution_count": 36,
   "metadata": {
    "collapsed": true
   },
   "outputs": [],
   "source": [
    "collection=db.posts"
   ]
  },
  {
   "cell_type": "code",
   "execution_count": 37,
   "metadata": {
    "collapsed": true
   },
   "outputs": [],
   "source": [
    "post_id=collection.insert_one(post1)"
   ]
  },
  {
   "cell_type": "code",
   "execution_count": 38,
   "metadata": {
    "collapsed": false
   },
   "outputs": [
    {
     "data": {
      "text/plain": [
       "ObjectId('59fcc870be65524e11b7764f')"
      ]
     },
     "execution_count": 38,
     "metadata": {},
     "output_type": "execute_result"
    }
   ],
   "source": [
    "post_id.inserted_id"
   ]
  },
  {
   "cell_type": "code",
   "execution_count": 39,
   "metadata": {
    "collapsed": false
   },
   "outputs": [
    {
     "data": {
      "text/plain": [
       "<pymongo.results.InsertOneResult at 0x7fd3d8755e48>"
      ]
     },
     "execution_count": 39,
     "metadata": {},
     "output_type": "execute_result"
    }
   ],
   "source": [
    "post_id"
   ]
  },
  {
   "cell_type": "code",
   "execution_count": 40,
   "metadata": {
    "collapsed": true
   },
   "outputs": [],
   "source": [
    "post2={'codigo':'ID-2209876', 'prod_name':'Televisor',\n",
    "      'marcas':['samsung','panasonic','lg'],\n",
    "      'data_cadastro':datetime.datetime.utcnow()}"
   ]
  },
  {
   "cell_type": "code",
   "execution_count": 41,
   "metadata": {
    "collapsed": true
   },
   "outputs": [],
   "source": [
    "collection=db.posts"
   ]
  },
  {
   "cell_type": "code",
   "execution_count": 42,
   "metadata": {
    "collapsed": true
   },
   "outputs": [],
   "source": [
    "post_id=collection.insert_one(post2).inserted_id"
   ]
  },
  {
   "cell_type": "code",
   "execution_count": 43,
   "metadata": {
    "collapsed": false
   },
   "outputs": [
    {
     "data": {
      "text/plain": [
       "ObjectId('59fcc92fbe65524e11b77650')"
      ]
     },
     "execution_count": 43,
     "metadata": {},
     "output_type": "execute_result"
    }
   ],
   "source": [
    "post_id"
   ]
  },
  {
   "cell_type": "code",
   "execution_count": 44,
   "metadata": {
    "collapsed": false
   },
   "outputs": [
    {
     "data": {
      "text/plain": [
       "{'_id': ObjectId('59fcc92fbe65524e11b77650'),\n",
       " 'codigo': 'ID-2209876',\n",
       " 'data_cadastro': datetime.datetime(2017, 11, 3, 19, 52, 25, 488000),\n",
       " 'marcas': ['samsung', 'panasonic', 'lg'],\n",
       " 'prod_name': 'Televisor'}"
      ]
     },
     "execution_count": 44,
     "metadata": {},
     "output_type": "execute_result"
    }
   ],
   "source": [
    "collection.find_one({'prod_name':'Televisor'})"
   ]
  },
  {
   "cell_type": "code",
   "execution_count": 45,
   "metadata": {
    "collapsed": false
   },
   "outputs": [
    {
     "name": "stdout",
     "output_type": "stream",
     "text": [
      "{'prod_name': 'Geladeira', 'data_cadastro': datetime.datetime(2017, 11, 3, 19, 49, 12, 778000), '_id': ObjectId('59fcc870be65524e11b7764f'), 'codigo': 'ID-9987725', 'marcas': ['brastemp', 'consul', 'electrolux']}\n",
      "{'prod_name': 'Televisor', 'data_cadastro': datetime.datetime(2017, 11, 3, 19, 52, 25, 488000), '_id': ObjectId('59fcc92fbe65524e11b77650'), 'codigo': 'ID-2209876', 'marcas': ['samsung', 'panasonic', 'lg']}\n"
     ]
    }
   ],
   "source": [
    "for post in collection.find():\n",
    "    print (post)"
   ]
  },
  {
   "cell_type": "code",
   "execution_count": 46,
   "metadata": {
    "collapsed": false
   },
   "outputs": [
    {
     "data": {
      "text/plain": [
       "'cadastrodb'"
      ]
     },
     "execution_count": 46,
     "metadata": {},
     "output_type": "execute_result"
    }
   ],
   "source": [
    "db.name"
   ]
  },
  {
   "cell_type": "code",
   "execution_count": 47,
   "metadata": {
    "collapsed": false
   },
   "outputs": [
    {
     "data": {
      "text/plain": [
       "['posts']"
      ]
     },
     "execution_count": 47,
     "metadata": {},
     "output_type": "execute_result"
    }
   ],
   "source": [
    "db.collection_names()"
   ]
  },
  {
   "cell_type": "code",
   "execution_count": 1,
   "metadata": {
    "collapsed": true
   },
   "outputs": [],
   "source": [
    "import pymongo"
   ]
  },
  {
   "cell_type": "code",
   "execution_count": 2,
   "metadata": {
    "collapsed": true
   },
   "outputs": [],
   "source": [
    "client_con = pymongo.MongoClient()"
   ]
  },
  {
   "cell_type": "code",
   "execution_count": 3,
   "metadata": {
    "collapsed": false
   },
   "outputs": [
    {
     "data": {
      "text/plain": [
       "['cadastrodb', 'local']"
      ]
     },
     "execution_count": 3,
     "metadata": {},
     "output_type": "execute_result"
    }
   ],
   "source": [
    "client_con.database_names()"
   ]
  },
  {
   "cell_type": "code",
   "execution_count": 4,
   "metadata": {
    "collapsed": true
   },
   "outputs": [],
   "source": [
    "db=client_con.cadastrodb"
   ]
  },
  {
   "cell_type": "code",
   "execution_count": 5,
   "metadata": {
    "collapsed": false
   },
   "outputs": [
    {
     "data": {
      "text/plain": [
       "['posts']"
      ]
     },
     "execution_count": 5,
     "metadata": {},
     "output_type": "execute_result"
    }
   ],
   "source": [
    "db.collection_names()"
   ]
  },
  {
   "cell_type": "code",
   "execution_count": 6,
   "metadata": {
    "collapsed": false
   },
   "outputs": [
    {
     "data": {
      "text/plain": [
       "Collection(Database(MongoClient(host=['localhost:27017'], document_class=dict, tz_aware=False, connect=True), 'cadastrodb'), 'mycollection')"
      ]
     },
     "execution_count": 6,
     "metadata": {},
     "output_type": "execute_result"
    }
   ],
   "source": [
    "db.create_collection('mycollection')"
   ]
  },
  {
   "cell_type": "code",
   "execution_count": 7,
   "metadata": {
    "collapsed": false
   },
   "outputs": [
    {
     "data": {
      "text/plain": [
       "['mycollection', 'posts']"
      ]
     },
     "execution_count": 7,
     "metadata": {},
     "output_type": "execute_result"
    }
   ],
   "source": [
    "db.collection_names()"
   ]
  },
  {
   "cell_type": "code",
   "execution_count": 8,
   "metadata": {
    "collapsed": false
   },
   "outputs": [
    {
     "data": {
      "text/plain": [
       "<pymongo.results.InsertOneResult at 0x7f3ac3296848>"
      ]
     },
     "execution_count": 8,
     "metadata": {},
     "output_type": "execute_result"
    }
   ],
   "source": [
    "db.mycollection.insert_one({'titulo':'Mongo DB com Python',\n",
    "                            'descricao':'Mongo DB é um banco de dados NoSQL',\n",
    "                            'by':'Data Science Academy',\n",
    "                            'url':'http://www.datascienceacademy.com.br',\n",
    "                            'tags':['mongodb','database','NoSQL'],\n",
    "                            'likes':100\n",
    "                           })"
   ]
  },
  {
   "cell_type": "code",
   "execution_count": 9,
   "metadata": {
    "collapsed": false
   },
   "outputs": [
    {
     "data": {
      "text/plain": [
       "{'_id': ObjectId('5a008dabbe6552587b81e3b4'),\n",
       " 'by': 'Data Science Academy',\n",
       " 'descricao': 'Mongo DB é um banco de dados NoSQL',\n",
       " 'likes': 100,\n",
       " 'tags': ['mongodb', 'database', 'NoSQL'],\n",
       " 'titulo': 'Mongo DB com Python',\n",
       " 'url': 'http://www.datascienceacademy.com.br'}"
      ]
     },
     "execution_count": 9,
     "metadata": {},
     "output_type": "execute_result"
    }
   ],
   "source": [
    "db.mycollection.find_one()"
   ]
  },
  {
   "cell_type": "code",
   "execution_count": 10,
   "metadata": {
    "collapsed": true
   },
   "outputs": [],
   "source": [
    "doc1={'Nome':'Barack','sobrenome':'Obama','twitter':'@barack'}"
   ]
  },
  {
   "cell_type": "code",
   "execution_count": 12,
   "metadata": {
    "collapsed": false
   },
   "outputs": [
    {
     "data": {
      "text/plain": [
       "<pymongo.results.InsertOneResult at 0x7f3ac329fe08>"
      ]
     },
     "execution_count": 12,
     "metadata": {},
     "output_type": "execute_result"
    }
   ],
   "source": [
    "db.mycollection.insert_one(doc1)"
   ]
  },
  {
   "cell_type": "code",
   "execution_count": 11,
   "metadata": {
    "collapsed": true
   },
   "outputs": [],
   "source": [
    "doc2={'Site':'http://www.datascienceacademy.com.br','facebook':'facebook.com/dsacademybr'}"
   ]
  },
  {
   "cell_type": "code",
   "execution_count": 13,
   "metadata": {
    "collapsed": false
   },
   "outputs": [
    {
     "data": {
      "text/plain": [
       "<pymongo.results.InsertOneResult at 0x7f3ac32a3648>"
      ]
     },
     "execution_count": 13,
     "metadata": {},
     "output_type": "execute_result"
    }
   ],
   "source": [
    "db.mycollection.insert_one(doc2)"
   ]
  },
  {
   "cell_type": "code",
   "execution_count": 16,
   "metadata": {
    "collapsed": false
   },
   "outputs": [
    {
     "name": "stdout",
     "output_type": "stream",
     "text": [
      "{'by': 'Data Science Academy', 'titulo': 'Mongo DB com Python', 'descricao': 'Mongo DB é um banco de dados NoSQL', 'tags': ['mongodb', 'database', 'NoSQL'], 'likes': 100, '_id': ObjectId('5a008dabbe6552587b81e3b4'), 'url': 'http://www.datascienceacademy.com.br'}\n",
      "{'twitter': '@barack', '_id': ObjectId('5a008eb5be6552587b81e3b5'), 'sobrenome': 'Obama', 'Nome': 'Barack'}\n",
      "{'Site': 'http://www.datascienceacademy.com.br', 'facebook': 'facebook.com/dsacademybr', '_id': ObjectId('5a008ec5be6552587b81e3b6')}\n"
     ]
    }
   ],
   "source": [
    "for rec in db.mycollection.find():\n",
    "    print(rec)"
   ]
  },
  {
   "cell_type": "code",
   "execution_count": 17,
   "metadata": {
    "collapsed": true
   },
   "outputs": [],
   "source": [
    "col = db['mycollection']"
   ]
  },
  {
   "cell_type": "code",
   "execution_count": 18,
   "metadata": {
    "collapsed": false
   },
   "outputs": [
    {
     "data": {
      "text/plain": [
       "pymongo.collection.Collection"
      ]
     },
     "execution_count": 18,
     "metadata": {},
     "output_type": "execute_result"
    }
   ],
   "source": [
    "type(col)"
   ]
  },
  {
   "cell_type": "code",
   "execution_count": 19,
   "metadata": {
    "collapsed": false
   },
   "outputs": [
    {
     "data": {
      "text/plain": [
       "3"
      ]
     },
     "execution_count": 19,
     "metadata": {},
     "output_type": "execute_result"
    }
   ],
   "source": [
    "col.count()"
   ]
  },
  {
   "cell_type": "code",
   "execution_count": 21,
   "metadata": {
    "collapsed": true
   },
   "outputs": [],
   "source": [
    "redoc = col.find_one()"
   ]
  },
  {
   "cell_type": "code",
   "execution_count": 22,
   "metadata": {
    "collapsed": false
   },
   "outputs": [
    {
     "data": {
      "text/plain": [
       "{'_id': ObjectId('5a008dabbe6552587b81e3b4'),\n",
       " 'by': 'Data Science Academy',\n",
       " 'descricao': 'Mongo DB é um banco de dados NoSQL',\n",
       " 'likes': 100,\n",
       " 'tags': ['mongodb', 'database', 'NoSQL'],\n",
       " 'titulo': 'Mongo DB com Python',\n",
       " 'url': 'http://www.datascienceacademy.com.br'}"
      ]
     },
     "execution_count": 22,
     "metadata": {},
     "output_type": "execute_result"
    }
   ],
   "source": [
    "redoc"
   ]
  },
  {
   "cell_type": "markdown",
   "metadata": {},
   "source": [
    "# Acesso ao Twitter"
   ]
  },
  {
   "cell_type": "code",
   "execution_count": 23,
   "metadata": {
    "collapsed": true
   },
   "outputs": [],
   "source": [
    "# acesso a strem de dados do twitter\n",
    "# precisa de uma conta twitter criado com o numero de celular\n",
    "# e de uma especificacao de api do twitter (apps.twitter.com) criada e\n",
    "#   configurada para esta conta e gerada as chaves e tokens"
   ]
  },
  {
   "cell_type": "markdown",
   "metadata": {},
   "source": [
    "### Stream de dados do Twitter com MongoDB, Pandas e Scikit Learn"
   ]
  },
  {
   "cell_type": "code",
   "execution_count": 26,
   "metadata": {
    "collapsed": false
   },
   "outputs": [],
   "source": [
    "from tweepy.streaming import StreamListener\n",
    "from tweepy import OAuthHandler\n",
    "from tweepy import Stream\n",
    "from datetime import datetime\n",
    "import json\n"
   ]
  },
  {
   "cell_type": "code",
   "execution_count": 27,
   "metadata": {
    "collapsed": true
   },
   "outputs": [],
   "source": [
    "consumer_key='UuAilnXHC3TCHrTKoi8fYwqgK'\n",
    "consumer_secret='dPs8oAcIZn6fIGcITKFB1usWi0ftoHaydZeRtVAIDhw02I0cR3'\n",
    "access_token='927578273432899584-BAknt362cZu6xdC5XaYgLGgZZEXJuOC'\n",
    "access_token_secret='XJbjykajbIx7bXDwQ2wrVWtjfFHYMqmIA7Q6gvGQwueNY'"
   ]
  },
  {
   "cell_type": "code",
   "execution_count": 28,
   "metadata": {
    "collapsed": true
   },
   "outputs": [],
   "source": [
    "auth=OAuthHandler(consumer_key,consumer_secret)"
   ]
  },
  {
   "cell_type": "code",
   "execution_count": 29,
   "metadata": {
    "collapsed": true
   },
   "outputs": [],
   "source": [
    "auth.set_access_token(access_token,access_token_secret)"
   ]
  },
  {
   "cell_type": "code",
   "execution_count": 40,
   "metadata": {
    "collapsed": true
   },
   "outputs": [],
   "source": [
    "class MyListener(StreamListener):\n",
    "    def on_data(self, dados):\n",
    "        tweet=json.loads(dados)\n",
    "        created_at=tweet['created_at']\n",
    "        id_str=tweet['id_str']\n",
    "        text=tweet['text']\n",
    "        obj={'created_at':created_at,'id_str':id_str,'text':text,}\n",
    "        tweetind=col.insert_one(obj).inserted_id\n",
    "        print(obj)\n",
    "        return True"
   ]
  },
  {
   "cell_type": "code",
   "execution_count": 41,
   "metadata": {
    "collapsed": true
   },
   "outputs": [],
   "source": [
    "mylistener = MyListener()"
   ]
  },
  {
   "cell_type": "code",
   "execution_count": 42,
   "metadata": {
    "collapsed": true
   },
   "outputs": [],
   "source": [
    "mystream=Stream(auth,listener=mylistener)"
   ]
  },
  {
   "cell_type": "code",
   "execution_count": 43,
   "metadata": {
    "collapsed": true
   },
   "outputs": [],
   "source": [
    "from pymongo import MongoClient"
   ]
  },
  {
   "cell_type": "code",
   "execution_count": 44,
   "metadata": {
    "collapsed": true
   },
   "outputs": [],
   "source": [
    "client=MongoClient('localhost',27017)"
   ]
  },
  {
   "cell_type": "code",
   "execution_count": 45,
   "metadata": {
    "collapsed": false
   },
   "outputs": [],
   "source": [
    "db=client.twitterdb"
   ]
  },
  {
   "cell_type": "code",
   "execution_count": 46,
   "metadata": {
    "collapsed": true
   },
   "outputs": [],
   "source": [
    "#nome da colecao (col) deve ser igual ao nome da colecao usado na class MyListener\n",
    "col=db.tweets"
   ]
  },
  {
   "cell_type": "code",
   "execution_count": 47,
   "metadata": {
    "collapsed": true
   },
   "outputs": [],
   "source": [
    "keywords=['Big Data','Python', 'Data Mining', 'Data Science']"
   ]
  },
  {
   "cell_type": "code",
   "execution_count": 48,
   "metadata": {
    "collapsed": false
   },
   "outputs": [
    {
     "name": "stdout",
     "output_type": "stream",
     "text": [
      "{'text': 'Entelo Further Strengthens Leadership Team Across Product, Data Science ...: https://t.co/mKrLgMEuJ2 - #AIDrivenMarketing - November 6, 20…', 'created_at': 'Mon Nov 06 17:27:26 +0000 2017', '_id': ObjectId('5a009b7ebe6552587b81e3b9'), 'id_str': '927588246179151872'}\n",
      "{'text': 'RT @HadoopTutorial_: Python Programming Full Course (Basics,OOP,Modules,PyQt)\\n☞ https://t.co/7EODEn6C3w\\n#Bigdata #hadoop\\n\\nHJnQu8aLC- https:…', 'created_at': 'Mon Nov 06 17:27:31 +0000 2017', '_id': ObjectId('5a009b84be6552587b81e3ba'), 'id_str': '927588268882919425'}\n",
      "{'text': 'RT @ianbremmer: Trump does Monty Python. \\nThis is good stuff. https://t.co/Mi21ZPgCbg', 'created_at': 'Mon Nov 06 17:27:33 +0000 2017', '_id': ObjectId('5a009b85be6552587b81e3bb'), 'id_str': '927588274549297153'}\n",
      "{'text': '#empleo #IT Jefe de Proyecto IT - Big Data -  Cloudera - Madrid https://t.co/wsW2IOWr2f', 'created_at': 'Mon Nov 06 17:27:34 +0000 2017', '_id': ObjectId('5a009b86be6552587b81e3bc'), 'id_str': '927588280241217538'}\n",
      "{'text': 'RT AviationNews \"The big data generation is conquering the commercial aviation industry https://t.co/KneyEV8Gg3\"', 'created_at': 'Mon Nov 06 17:27:35 +0000 2017', '_id': ObjectId('5a009b87be6552587b81e3bd'), 'id_str': '927588283693043712'}\n",
      "{'text': 'Data Analysis in Python with Pandas\\n☞ https://t.co/SSOIQufes8\\n#Python\\nrJR3VDAI0b https://t.co/CMBz3lklE5', 'created_at': 'Mon Nov 06 17:27:36 +0000 2017', '_id': ObjectId('5a009b89be6552587b81e3be'), 'id_str': '927588289195970560'}\n",
      "{'text': '@M_3laa3 good luck big data king😂', 'created_at': 'Mon Nov 06 17:27:44 +0000 2017', '_id': ObjectId('5a009b90be6552587b81e3bf'), 'id_str': '927588322003898368'}\n",
      "{'text': 'RT @xfxie: #Data 2020: State of #BigData Study https://t.co/WaQoKFIbW9\\n\\n#DataAnalytics #SmartData #DataViz #Infographic… ', 'created_at': 'Mon Nov 06 17:27:56 +0000 2017', '_id': ObjectId('5a009b9dbe6552587b81e3c0'), 'id_str': '927588374046740481'}\n",
      "{'text': 'Complete Python Bootcamp: Go from zero to hero in Python\\n☞ https://t.co/AVfeWFUCnA\\n#python #django #flask\\nHkjRfkvR- https://t.co/km6tb7AGB0', 'created_at': 'Mon Nov 06 17:27:58 +0000 2017', '_id': ObjectId('5a009b9fbe6552587b81e3c1'), 'id_str': '927588381336522752'}\n",
      "{'text': 'The Ultimate Hands-On Hadoop - Tame your Big Data!\\n☞ https://t.co/mtluHmHWai\\n#python #ruby #MongoDB https://t.co/QHQaa3R0qO', 'created_at': 'Mon Nov 06 17:27:58 +0000 2017', '_id': ObjectId('5a009b9fbe6552587b81e3c2'), 'id_str': '927588381558824960'}\n",
      "{'text': 'RT @devunt: python ~2.7: reload()\\npython ~3.3: imp.reload()\\npython ~3.6: importlib.reload()\\n\\n파이썬은 왜 이러는걸까?', 'created_at': 'Mon Nov 06 17:27:59 +0000 2017', '_id': ObjectId('5a009ba0be6552587b81e3c3'), 'id_str': '927588387099328512'}\n",
      "{'text': 'RT @scienmag: A Python Climbing on Straight Tree https://t.co/qT3S7xqrzz', 'created_at': 'Mon Nov 06 17:28:00 +0000 2017', '_id': ObjectId('5a009ba1be6552587b81e3c4'), 'id_str': '927588390790238208'}\n",
      "{'text': 'RT @DeepLearn007: KDnuggets : The Data Science Puzzle, Explained\\n#AI #MachineLearning #DeepLearning #BigData #DL #ML #tech… ', 'created_at': 'Mon Nov 06 17:28:05 +0000 2017', '_id': ObjectId('5a009ba5be6552587b81e3c5'), 'id_str': '927588409396334592'}\n",
      "{'text': 'Python Text App Using Twilio API https://t.co/ar6vdCHKVz \\n#Twilio #Python', 'created_at': 'Mon Nov 06 17:28:07 +0000 2017', '_id': ObjectId('5a009ba8be6552587b81e3c6'), 'id_str': '927588420641218560'}\n",
      "{'text': '#Phone Genuine Vertu Constellation T in Yellow Python Leather 388 World Wide Super RARE https://t.co/VcQciYIdZg -… https://t.co/hC6GawQaOq', 'created_at': 'Mon Nov 06 17:28:08 +0000 2017', '_id': ObjectId('5a009ba9be6552587b81e3c7'), 'id_str': '927588421161193472'}\n",
      "{'text': 'Your clients are using data science to transform… https://t.co/S20XMDjjEZ #ANALYTICS #GeneratingDemand… https://t.co/OgEd7fPnx0', 'created_at': 'Mon Nov 06 17:28:09 +0000 2017', '_id': ObjectId('5a009baabe6552587b81e3c8'), 'id_str': '927588426018316289'}\n",
      "{'text': 'Google Colaboratory — Simplifying Data Science Workflow #DataScience \\nhttps://t.co/aAlhZJfNHg https://t.co/xYabnw1yDB', 'created_at': 'Mon Nov 06 17:28:11 +0000 2017', '_id': ObjectId('5a009bacbe6552587b81e3c9'), 'id_str': '927588437246599168'}\n",
      "{'text': 'RT @sergii_shanin: Google Colaboratory — Simplifying Data Science Workflow #DataScience \\nhttps://t.co/aAlhZJfNHg https://t.co/xYabnw1yDB', 'created_at': 'Mon Nov 06 17:28:12 +0000 2017', '_id': ObjectId('5a009badbe6552587b81e3ca'), 'id_str': '927588440211902464'}\n",
      "{'text': 'RT @BebeNeuwirth: Truly truly truly one of the most hilarious #MontyPython sketches. https://t.co/cIejxc0PVn', 'created_at': 'Mon Nov 06 17:28:15 +0000 2017', '_id': ObjectId('5a009bb0be6552587b81e3cb'), 'id_str': '927588451557535744'}\n",
      "{'text': 'The Developers Guide to Python 3 Programming\\n☞ https://t.co/KUynNr4fvX\\n#datascience #bigdata\\nr1hMmUpL0- https://t.co/AaT6aMljZF', 'created_at': 'Mon Nov 06 17:28:20 +0000 2017', '_id': ObjectId('5a009bb5be6552587b81e3cc'), 'id_str': '927588474550661121'}\n",
      "{'text': 'RT @ianbremmer: Trump does Monty Python. \\nThis is good stuff. https://t.co/Mi21ZPgCbg', 'created_at': 'Mon Nov 06 17:28:22 +0000 2017', '_id': ObjectId('5a009bb7be6552587b81e3cd'), 'id_str': '927588483941699587'}\n",
      "{'text': 'Exploring the Archives of Big Data\\nhttps://t.co/CoU3ASqqCi', 'created_at': 'Mon Nov 06 17:28:32 +0000 2017', '_id': ObjectId('5a009bc1be6552587b81e3ce'), 'id_str': '927588524391616513'}\n",
      "{'text': 'RT @IAC_Astrofisica: #IACBecasyEmpleos UN contrato postdoctoral en el @IAC_Astrofisica para trabajar en Big Data en Astronomía 2017.\\nhttps:…', 'created_at': 'Mon Nov 06 17:28:33 +0000 2017', '_id': ObjectId('5a009bc1be6552587b81e3cf'), 'id_str': '927588527612858369'}\n",
      "{'text': 'RT @DeepLearn007: KDnuggets : The Data Science Puzzle, Explained\\n#AI #MachineLearning #DeepLearning #BigData #DL #ML #tech… ', 'created_at': 'Mon Nov 06 17:28:34 +0000 2017', '_id': ObjectId('5a009bc3be6552587b81e3d0'), 'id_str': '927588533858160640'}\n",
      "{'text': 'RT @PenTestMag: How To Make A Reverse TCP Backdoor In Python\\n#programming #python #TCP \\nhttps://t.co/D0FjHxTUTf', 'created_at': 'Mon Nov 06 17:28:35 +0000 2017', '_id': ObjectId('5a009bc3be6552587b81e3d1'), 'id_str': '927588534487212033'}\n",
      "{'text': 'Yesterday I had never used #scapy. Today I wrote a network protocol analyser that produces graphs and charts. I love @ThePSF and #Python', 'created_at': 'Mon Nov 06 17:28:35 +0000 2017', '_id': ObjectId('5a009bc4be6552587b81e3d2'), 'id_str': '927588537146400768'}\n",
      "{'text': \"@Nivendra @dialoglk @blessie_k @rukmankan any idea if Mobitel's data packages are any better? They had a promo duri… https://t.co/CwWWEoUh51\", 'created_at': 'Mon Nov 06 17:28:35 +0000 2017', '_id': ObjectId('5a009bc4be6552587b81e3d3'), 'id_str': '927588537737687040'}\n",
      "{'text': \"@BZHDeveloper youtube-dl c'est en python\", 'created_at': 'Mon Nov 06 17:28:37 +0000 2017', '_id': ObjectId('5a009bc6be6552587b81e3d4'), 'id_str': '927588545367363585'}\n",
      "{'text': 'RT @TekLink_Intl: Insights into Improving Forecast Accuracy through Data Science!  https://t.co/iEio90ERo3 https://t.co/2H2Zat7Rwp', 'created_at': 'Mon Nov 06 17:28:40 +0000 2017', '_id': ObjectId('5a009bc9be6552587b81e3d5'), 'id_str': '927588558579355648'}\n",
      "{'text': 'RT @Dr_Hmood: التحليل الوصفي يستخدم تقنيات الـ Data mining للإجابةعلى سؤال(ماذا يحدث؟)لفهم الأنماط/المجموعات الموجودةفي البيانات- مثال خوار…', 'created_at': 'Mon Nov 06 17:28:42 +0000 2017', '_id': ObjectId('5a009bcbbe6552587b81e3d6'), 'id_str': '927588566682816513'}\n",
      "{'text': 'RT @ShareInsights_: How Big Data is Helping Social Workers Know Where to Focus https://t.co/kYerNNpYB9 via @Datafloq #US #BigData #SocialDa…', 'created_at': 'Mon Nov 06 17:28:45 +0000 2017', '_id': ObjectId('5a009bcdbe6552587b81e3d7'), 'id_str': '927588576530796544'}\n",
      "{'text': 'Are Car Companies Going to Profit from your Driving Data? #Big #Data #Automotive #Innovation #Business #Forbes #IoT https://t.co/p4jkKf2GKE', 'created_at': 'Mon Nov 06 17:28:47 +0000 2017', '_id': ObjectId('5a009bcfbe6552587b81e3d8'), 'id_str': '927588586215563265'}\n",
      "{'text': '@GillesnFio @Zerilos @jnvk2m @ILuvCO2 @caerbannog666 @LeeWheelbarger @lawiegers @oldfosil66 @miked194765… https://t.co/uzu747qAsw', 'created_at': 'Mon Nov 06 17:28:51 +0000 2017', '_id': ObjectId('5a009bd4be6552587b81e3d9'), 'id_str': '927588604519395328'}\n",
      "{'text': 'RT @datasciencesdr: Este jueves hablaremos sobre minería de datos y aplicaciones blockchain con charlas de @ruxeg y @tclauss. ¡Apúntate! ht…', 'created_at': 'Mon Nov 06 17:28:53 +0000 2017', '_id': ObjectId('5a009bd6be6552587b81e3da'), 'id_str': '927588612954304512'}\n",
      "{'text': 'The latest Data Science and Stories! https://t.co/qdfxe4CEGP Thanks to @thinkdigicon @ArupGoreswar @DatagoraSmart #bigdata #data', 'created_at': 'Mon Nov 06 17:28:53 +0000 2017', '_id': ObjectId('5a009bd6be6552587b81e3db'), 'id_str': '927588613478666240'}\n",
      "{'text': 'RT @Hackers_toolbox: Python Scriptable Reverse Engineering Sandbox: PyREBox https://t.co/vVuunicnHk #InfoSec #CyberSecurity', 'created_at': 'Mon Nov 06 17:28:57 +0000 2017', '_id': ObjectId('5a009bd9be6552587b81e3dc'), 'id_str': '927588627932176389'}\n",
      "{'text': 'RT @wyfegypt: E-learning  and  big data are words that make us confused #WeNeedToTalk#WYF2017', 'created_at': 'Mon Nov 06 17:29:00 +0000 2017', '_id': ObjectId('5a009bdcbe6552587b81e3dd'), 'id_str': '927588640280195072'}\n",
      "{'text': '@Avxry But just like every map every year, data mining spoils a lot especially with the first map', 'created_at': 'Mon Nov 06 17:29:02 +0000 2017', '_id': ObjectId('5a009bdebe6552587b81e3de'), 'id_str': '927588647934840833'}\n",
      "{'text': 'RT @Digital_Mummy: Big Growth in Data Security Provide Consultant Opportunities https://t.co/C7tEtsgIDt #InternetOfThings #IoT #IoE #IIoT #…', 'created_at': 'Mon Nov 06 17:29:02 +0000 2017', '_id': ObjectId('5a009bdebe6552587b81e3df'), 'id_str': '927588649524449281'}\n",
      "{'text': '\"How Pop Artist Shelita Burke Uses Data Science And Blockchain To Her Advantage\" #DataScience #STEMeducation \\n\\nhttps://t.co/uXzy6uqC2k', 'created_at': 'Mon Nov 06 17:29:04 +0000 2017', '_id': ObjectId('5a009be0be6552587b81e3e0'), 'id_str': '927588656256376833'}\n",
      "{'text': '#Bigdata #python #hadoop #tableau Godot : Beginner to Advanced - Complete Course\\n☞ https://t.co/KQqWbopLWr https://t.co/rCfSYws4Yi', 'created_at': 'Mon Nov 06 17:29:04 +0000 2017', '_id': ObjectId('5a009be1be6552587b81e3e1'), 'id_str': '927588658231816195'}\n",
      "{'text': 'An introduction to algorithms in Python\\n☞ https://t.co/6T9wi3lsUR\\n#python #course\\nB1gM-dTLCZ https://t.co/DQZjEMbhfl', 'created_at': 'Mon Nov 06 17:29:04 +0000 2017', '_id': ObjectId('5a009be1be6552587b81e3e2'), 'id_str': '927588658806444032'}\n",
      "{'text': 'Interactive Data Visualization with Python &amp; Bokeh\\n☞ https://t.co/3XaN9rwA5p\\n#datascience #bigdata\\nBkgelQU68AZ https://t.co/CmdFUvAuvX', 'created_at': 'Mon Nov 06 17:29:04 +0000 2017', '_id': ObjectId('5a009be2be6552587b81e3e3'), 'id_str': '927588659771183106'}\n",
      "{'text': '俺もpython2でも3でもHello World書けるからAI開発携われるってことか\\nあとはpythonできますって言える強いハートだけだな必要なのは', 'created_at': 'Mon Nov 06 17:29:07 +0000 2017', '_id': ObjectId('5a009be3be6552587b81e3e4'), 'id_str': '927588668738383872'}\n",
      "{'text': 'AMF becomes a member of IVADO - \"Given the critical role that https://t.co/jTNuEvtFGy #data-science', 'created_at': 'Mon Nov 06 17:29:07 +0000 2017', '_id': ObjectId('5a009be4be6552587b81e3e5'), 'id_str': '927588670235987968'}\n",
      "{'text': 'How a data scientist protects his children from the dangers of the tech world - Data scientists work https://t.co/6F02bYPQ1g #data-science', 'created_at': 'Mon Nov 06 17:29:08 +0000 2017', '_id': ObjectId('5a009be4be6552587b81e3e6'), 'id_str': '927588675021447168'}\n",
      "{'text': 'A good write-up to simplify data science #DataScience https://t.co/1bSZ7f9qrM https://t.co/yvbqc5cVQv', 'created_at': 'Mon Nov 06 17:29:08 +0000 2017', '_id': ObjectId('5a009be5be6552587b81e3e7'), 'id_str': '927588675516379136'}\n"
     ]
    },
    {
     "ename": "KeyboardInterrupt",
     "evalue": "",
     "output_type": "error",
     "traceback": [
      "\u001b[0;31m---------------------------------------------------------------------------\u001b[0m",
      "\u001b[0;31mKeyboardInterrupt\u001b[0m                         Traceback (most recent call last)",
      "\u001b[0;32m<ipython-input-48-3a99f099baca>\u001b[0m in \u001b[0;36m<module>\u001b[0;34m()\u001b[0m\n\u001b[0;32m----> 1\u001b[0;31m \u001b[0mmystream\u001b[0m\u001b[0;34m.\u001b[0m\u001b[0mfilter\u001b[0m\u001b[0;34m(\u001b[0m\u001b[0mtrack\u001b[0m\u001b[0;34m=\u001b[0m\u001b[0mkeywords\u001b[0m\u001b[0;34m)\u001b[0m\u001b[0;34m\u001b[0m\u001b[0m\n\u001b[0m",
      "\u001b[0;32m/home/aguiar/anaconda3/lib/python3.5/site-packages/tweepy/streaming.py\u001b[0m in \u001b[0;36mfilter\u001b[0;34m(self, follow, track, async, locations, stall_warnings, languages, encoding, filter_level)\u001b[0m\n\u001b[1;32m    443\u001b[0m         \u001b[0mself\u001b[0m\u001b[0;34m.\u001b[0m\u001b[0msession\u001b[0m\u001b[0;34m.\u001b[0m\u001b[0mparams\u001b[0m \u001b[0;34m=\u001b[0m \u001b[0;34m{\u001b[0m\u001b[0;34m'delimited'\u001b[0m\u001b[0;34m:\u001b[0m \u001b[0;34m'length'\u001b[0m\u001b[0;34m}\u001b[0m\u001b[0;34m\u001b[0m\u001b[0m\n\u001b[1;32m    444\u001b[0m         \u001b[0mself\u001b[0m\u001b[0;34m.\u001b[0m\u001b[0mhost\u001b[0m \u001b[0;34m=\u001b[0m \u001b[0;34m'stream.twitter.com'\u001b[0m\u001b[0;34m\u001b[0m\u001b[0m\n\u001b[0;32m--> 445\u001b[0;31m         \u001b[0mself\u001b[0m\u001b[0;34m.\u001b[0m\u001b[0m_start\u001b[0m\u001b[0;34m(\u001b[0m\u001b[0masync\u001b[0m\u001b[0;34m)\u001b[0m\u001b[0;34m\u001b[0m\u001b[0m\n\u001b[0m\u001b[1;32m    446\u001b[0m \u001b[0;34m\u001b[0m\u001b[0m\n\u001b[1;32m    447\u001b[0m     def sitestream(self, follow, stall_warnings=False,\n",
      "\u001b[0;32m/home/aguiar/anaconda3/lib/python3.5/site-packages/tweepy/streaming.py\u001b[0m in \u001b[0;36m_start\u001b[0;34m(self, async)\u001b[0m\n\u001b[1;32m    359\u001b[0m             \u001b[0mself\u001b[0m\u001b[0;34m.\u001b[0m\u001b[0m_thread\u001b[0m\u001b[0;34m.\u001b[0m\u001b[0mstart\u001b[0m\u001b[0;34m(\u001b[0m\u001b[0;34m)\u001b[0m\u001b[0;34m\u001b[0m\u001b[0m\n\u001b[1;32m    360\u001b[0m         \u001b[0;32melse\u001b[0m\u001b[0;34m:\u001b[0m\u001b[0;34m\u001b[0m\u001b[0m\n\u001b[0;32m--> 361\u001b[0;31m             \u001b[0mself\u001b[0m\u001b[0;34m.\u001b[0m\u001b[0m_run\u001b[0m\u001b[0;34m(\u001b[0m\u001b[0;34m)\u001b[0m\u001b[0;34m\u001b[0m\u001b[0m\n\u001b[0m\u001b[1;32m    362\u001b[0m \u001b[0;34m\u001b[0m\u001b[0m\n\u001b[1;32m    363\u001b[0m     \u001b[0;32mdef\u001b[0m \u001b[0mon_closed\u001b[0m\u001b[0;34m(\u001b[0m\u001b[0mself\u001b[0m\u001b[0;34m,\u001b[0m \u001b[0mresp\u001b[0m\u001b[0;34m)\u001b[0m\u001b[0;34m:\u001b[0m\u001b[0;34m\u001b[0m\u001b[0m\n",
      "\u001b[0;32m/home/aguiar/anaconda3/lib/python3.5/site-packages/tweepy/streaming.py\u001b[0m in \u001b[0;36m_run\u001b[0;34m(self)\u001b[0m\n\u001b[1;32m    261\u001b[0m                     \u001b[0mself\u001b[0m\u001b[0;34m.\u001b[0m\u001b[0msnooze_time\u001b[0m \u001b[0;34m=\u001b[0m \u001b[0mself\u001b[0m\u001b[0;34m.\u001b[0m\u001b[0msnooze_time_step\u001b[0m\u001b[0;34m\u001b[0m\u001b[0m\n\u001b[1;32m    262\u001b[0m                     \u001b[0mself\u001b[0m\u001b[0;34m.\u001b[0m\u001b[0mlistener\u001b[0m\u001b[0;34m.\u001b[0m\u001b[0mon_connect\u001b[0m\u001b[0;34m(\u001b[0m\u001b[0;34m)\u001b[0m\u001b[0;34m\u001b[0m\u001b[0m\n\u001b[0;32m--> 263\u001b[0;31m                     \u001b[0mself\u001b[0m\u001b[0;34m.\u001b[0m\u001b[0m_read_loop\u001b[0m\u001b[0;34m(\u001b[0m\u001b[0mresp\u001b[0m\u001b[0;34m)\u001b[0m\u001b[0;34m\u001b[0m\u001b[0m\n\u001b[0m\u001b[1;32m    264\u001b[0m             \u001b[0;32mexcept\u001b[0m \u001b[0;34m(\u001b[0m\u001b[0mTimeout\u001b[0m\u001b[0;34m,\u001b[0m \u001b[0mssl\u001b[0m\u001b[0;34m.\u001b[0m\u001b[0mSSLError\u001b[0m\u001b[0;34m)\u001b[0m \u001b[0;32mas\u001b[0m \u001b[0mexc\u001b[0m\u001b[0;34m:\u001b[0m\u001b[0;34m\u001b[0m\u001b[0m\n\u001b[1;32m    265\u001b[0m                 \u001b[0;31m# This is still necessary, as a SSLError can actually be\u001b[0m\u001b[0;34m\u001b[0m\u001b[0;34m\u001b[0m\u001b[0m\n",
      "\u001b[0;32m/home/aguiar/anaconda3/lib/python3.5/site-packages/tweepy/streaming.py\u001b[0m in \u001b[0;36m_read_loop\u001b[0;34m(self, resp)\u001b[0m\n\u001b[1;32m    311\u001b[0m             \u001b[0mlength\u001b[0m \u001b[0;34m=\u001b[0m \u001b[0;36m0\u001b[0m\u001b[0;34m\u001b[0m\u001b[0m\n\u001b[1;32m    312\u001b[0m             \u001b[0;32mwhile\u001b[0m \u001b[0;32mnot\u001b[0m \u001b[0mresp\u001b[0m\u001b[0;34m.\u001b[0m\u001b[0mraw\u001b[0m\u001b[0;34m.\u001b[0m\u001b[0mclosed\u001b[0m\u001b[0;34m:\u001b[0m\u001b[0;34m\u001b[0m\u001b[0m\n\u001b[0;32m--> 313\u001b[0;31m                 \u001b[0mline\u001b[0m \u001b[0;34m=\u001b[0m \u001b[0mbuf\u001b[0m\u001b[0;34m.\u001b[0m\u001b[0mread_line\u001b[0m\u001b[0;34m(\u001b[0m\u001b[0;34m)\u001b[0m\u001b[0;34m.\u001b[0m\u001b[0mstrip\u001b[0m\u001b[0;34m(\u001b[0m\u001b[0;34m)\u001b[0m\u001b[0;34m\u001b[0m\u001b[0m\n\u001b[0m\u001b[1;32m    314\u001b[0m                 \u001b[0;32mif\u001b[0m \u001b[0;32mnot\u001b[0m \u001b[0mline\u001b[0m\u001b[0;34m:\u001b[0m\u001b[0;34m\u001b[0m\u001b[0m\n\u001b[1;32m    315\u001b[0m                     \u001b[0mself\u001b[0m\u001b[0;34m.\u001b[0m\u001b[0mlistener\u001b[0m\u001b[0;34m.\u001b[0m\u001b[0mkeep_alive\u001b[0m\u001b[0;34m(\u001b[0m\u001b[0;34m)\u001b[0m  \u001b[0;31m# keep-alive new lines are expected\u001b[0m\u001b[0;34m\u001b[0m\u001b[0m\n",
      "\u001b[0;32m/home/aguiar/anaconda3/lib/python3.5/site-packages/tweepy/streaming.py\u001b[0m in \u001b[0;36mread_line\u001b[0;34m(self, sep)\u001b[0m\n\u001b[1;32m    177\u001b[0m             \u001b[0;32melse\u001b[0m\u001b[0;34m:\u001b[0m\u001b[0;34m\u001b[0m\u001b[0m\n\u001b[1;32m    178\u001b[0m                 \u001b[0mstart\u001b[0m \u001b[0;34m=\u001b[0m \u001b[0mlen\u001b[0m\u001b[0;34m(\u001b[0m\u001b[0mself\u001b[0m\u001b[0;34m.\u001b[0m\u001b[0m_buffer\u001b[0m\u001b[0;34m)\u001b[0m\u001b[0;34m\u001b[0m\u001b[0m\n\u001b[0;32m--> 179\u001b[0;31m             \u001b[0mself\u001b[0m\u001b[0;34m.\u001b[0m\u001b[0m_buffer\u001b[0m \u001b[0;34m+=\u001b[0m \u001b[0mself\u001b[0m\u001b[0;34m.\u001b[0m\u001b[0m_stream\u001b[0m\u001b[0;34m.\u001b[0m\u001b[0mread\u001b[0m\u001b[0;34m(\u001b[0m\u001b[0mself\u001b[0m\u001b[0;34m.\u001b[0m\u001b[0m_chunk_size\u001b[0m\u001b[0;34m)\u001b[0m\u001b[0;34m\u001b[0m\u001b[0m\n\u001b[0m\u001b[1;32m    180\u001b[0m \u001b[0;34m\u001b[0m\u001b[0m\n\u001b[1;32m    181\u001b[0m     \u001b[0;32mdef\u001b[0m \u001b[0m_pop\u001b[0m\u001b[0;34m(\u001b[0m\u001b[0mself\u001b[0m\u001b[0;34m,\u001b[0m \u001b[0mlength\u001b[0m\u001b[0;34m)\u001b[0m\u001b[0;34m:\u001b[0m\u001b[0;34m\u001b[0m\u001b[0m\n",
      "\u001b[0;32m/home/aguiar/anaconda3/lib/python3.5/site-packages/requests/packages/urllib3/response.py\u001b[0m in \u001b[0;36mread\u001b[0;34m(self, amt, decode_content, cache_content)\u001b[0m\n\u001b[1;32m    312\u001b[0m             \u001b[0;32melse\u001b[0m\u001b[0;34m:\u001b[0m\u001b[0;34m\u001b[0m\u001b[0m\n\u001b[1;32m    313\u001b[0m                 \u001b[0mcache_content\u001b[0m \u001b[0;34m=\u001b[0m \u001b[0;32mFalse\u001b[0m\u001b[0;34m\u001b[0m\u001b[0m\n\u001b[0;32m--> 314\u001b[0;31m                 \u001b[0mdata\u001b[0m \u001b[0;34m=\u001b[0m \u001b[0mself\u001b[0m\u001b[0;34m.\u001b[0m\u001b[0m_fp\u001b[0m\u001b[0;34m.\u001b[0m\u001b[0mread\u001b[0m\u001b[0;34m(\u001b[0m\u001b[0mamt\u001b[0m\u001b[0;34m)\u001b[0m\u001b[0;34m\u001b[0m\u001b[0m\n\u001b[0m\u001b[1;32m    315\u001b[0m                 \u001b[0;32mif\u001b[0m \u001b[0mamt\u001b[0m \u001b[0;34m!=\u001b[0m \u001b[0;36m0\u001b[0m \u001b[0;32mand\u001b[0m \u001b[0;32mnot\u001b[0m \u001b[0mdata\u001b[0m\u001b[0;34m:\u001b[0m  \u001b[0;31m# Platform-specific: Buggy versions of Python.\u001b[0m\u001b[0;34m\u001b[0m\u001b[0m\n\u001b[1;32m    316\u001b[0m                     \u001b[0;31m# Close the connection when no data is returned\u001b[0m\u001b[0;34m\u001b[0m\u001b[0;34m\u001b[0m\u001b[0m\n",
      "\u001b[0;32m/home/aguiar/anaconda3/lib/python3.5/http/client.py\u001b[0m in \u001b[0;36mread\u001b[0;34m(self, amt)\u001b[0m\n\u001b[1;32m    446\u001b[0m             \u001b[0;31m# Amount is given, implement using readinto\u001b[0m\u001b[0;34m\u001b[0m\u001b[0;34m\u001b[0m\u001b[0m\n\u001b[1;32m    447\u001b[0m             \u001b[0mb\u001b[0m \u001b[0;34m=\u001b[0m \u001b[0mbytearray\u001b[0m\u001b[0;34m(\u001b[0m\u001b[0mamt\u001b[0m\u001b[0;34m)\u001b[0m\u001b[0;34m\u001b[0m\u001b[0m\n\u001b[0;32m--> 448\u001b[0;31m             \u001b[0mn\u001b[0m \u001b[0;34m=\u001b[0m \u001b[0mself\u001b[0m\u001b[0;34m.\u001b[0m\u001b[0mreadinto\u001b[0m\u001b[0;34m(\u001b[0m\u001b[0mb\u001b[0m\u001b[0;34m)\u001b[0m\u001b[0;34m\u001b[0m\u001b[0m\n\u001b[0m\u001b[1;32m    449\u001b[0m             \u001b[0;32mreturn\u001b[0m \u001b[0mmemoryview\u001b[0m\u001b[0;34m(\u001b[0m\u001b[0mb\u001b[0m\u001b[0;34m)\u001b[0m\u001b[0;34m[\u001b[0m\u001b[0;34m:\u001b[0m\u001b[0mn\u001b[0m\u001b[0;34m]\u001b[0m\u001b[0;34m.\u001b[0m\u001b[0mtobytes\u001b[0m\u001b[0;34m(\u001b[0m\u001b[0;34m)\u001b[0m\u001b[0;34m\u001b[0m\u001b[0m\n\u001b[1;32m    450\u001b[0m         \u001b[0;32melse\u001b[0m\u001b[0;34m:\u001b[0m\u001b[0;34m\u001b[0m\u001b[0m\n",
      "\u001b[0;32m/home/aguiar/anaconda3/lib/python3.5/http/client.py\u001b[0m in \u001b[0;36mreadinto\u001b[0;34m(self, b)\u001b[0m\n\u001b[1;32m    476\u001b[0m \u001b[0;34m\u001b[0m\u001b[0m\n\u001b[1;32m    477\u001b[0m         \u001b[0;32mif\u001b[0m \u001b[0mself\u001b[0m\u001b[0;34m.\u001b[0m\u001b[0mchunked\u001b[0m\u001b[0;34m:\u001b[0m\u001b[0;34m\u001b[0m\u001b[0m\n\u001b[0;32m--> 478\u001b[0;31m             \u001b[0;32mreturn\u001b[0m \u001b[0mself\u001b[0m\u001b[0;34m.\u001b[0m\u001b[0m_readinto_chunked\u001b[0m\u001b[0;34m(\u001b[0m\u001b[0mb\u001b[0m\u001b[0;34m)\u001b[0m\u001b[0;34m\u001b[0m\u001b[0m\n\u001b[0m\u001b[1;32m    479\u001b[0m \u001b[0;34m\u001b[0m\u001b[0m\n\u001b[1;32m    480\u001b[0m         \u001b[0;32mif\u001b[0m \u001b[0mself\u001b[0m\u001b[0;34m.\u001b[0m\u001b[0mlength\u001b[0m \u001b[0;32mis\u001b[0m \u001b[0;32mnot\u001b[0m \u001b[0;32mNone\u001b[0m\u001b[0;34m:\u001b[0m\u001b[0;34m\u001b[0m\u001b[0m\n",
      "\u001b[0;32m/home/aguiar/anaconda3/lib/python3.5/http/client.py\u001b[0m in \u001b[0;36m_readinto_chunked\u001b[0;34m(self, b)\u001b[0m\n\u001b[1;32m    571\u001b[0m         \u001b[0;32mtry\u001b[0m\u001b[0;34m:\u001b[0m\u001b[0;34m\u001b[0m\u001b[0m\n\u001b[1;32m    572\u001b[0m             \u001b[0;32mwhile\u001b[0m \u001b[0;32mTrue\u001b[0m\u001b[0;34m:\u001b[0m\u001b[0;34m\u001b[0m\u001b[0m\n\u001b[0;32m--> 573\u001b[0;31m                 \u001b[0mchunk_left\u001b[0m \u001b[0;34m=\u001b[0m \u001b[0mself\u001b[0m\u001b[0;34m.\u001b[0m\u001b[0m_get_chunk_left\u001b[0m\u001b[0;34m(\u001b[0m\u001b[0;34m)\u001b[0m\u001b[0;34m\u001b[0m\u001b[0m\n\u001b[0m\u001b[1;32m    574\u001b[0m                 \u001b[0;32mif\u001b[0m \u001b[0mchunk_left\u001b[0m \u001b[0;32mis\u001b[0m \u001b[0;32mNone\u001b[0m\u001b[0;34m:\u001b[0m\u001b[0;34m\u001b[0m\u001b[0m\n\u001b[1;32m    575\u001b[0m                     \u001b[0;32mreturn\u001b[0m \u001b[0mtotal_bytes\u001b[0m\u001b[0;34m\u001b[0m\u001b[0m\n",
      "\u001b[0;32m/home/aguiar/anaconda3/lib/python3.5/http/client.py\u001b[0m in \u001b[0;36m_get_chunk_left\u001b[0;34m(self)\u001b[0m\n\u001b[1;32m    539\u001b[0m                 \u001b[0mself\u001b[0m\u001b[0;34m.\u001b[0m\u001b[0m_safe_read\u001b[0m\u001b[0;34m(\u001b[0m\u001b[0;36m2\u001b[0m\u001b[0;34m)\u001b[0m  \u001b[0;31m# toss the CRLF at the end of the chunk\u001b[0m\u001b[0;34m\u001b[0m\u001b[0m\n\u001b[1;32m    540\u001b[0m             \u001b[0;32mtry\u001b[0m\u001b[0;34m:\u001b[0m\u001b[0;34m\u001b[0m\u001b[0m\n\u001b[0;32m--> 541\u001b[0;31m                 \u001b[0mchunk_left\u001b[0m \u001b[0;34m=\u001b[0m \u001b[0mself\u001b[0m\u001b[0;34m.\u001b[0m\u001b[0m_read_next_chunk_size\u001b[0m\u001b[0;34m(\u001b[0m\u001b[0;34m)\u001b[0m\u001b[0;34m\u001b[0m\u001b[0m\n\u001b[0m\u001b[1;32m    542\u001b[0m             \u001b[0;32mexcept\u001b[0m \u001b[0mValueError\u001b[0m\u001b[0;34m:\u001b[0m\u001b[0;34m\u001b[0m\u001b[0m\n\u001b[1;32m    543\u001b[0m                 \u001b[0;32mraise\u001b[0m \u001b[0mIncompleteRead\u001b[0m\u001b[0;34m(\u001b[0m\u001b[0;34mb''\u001b[0m\u001b[0;34m)\u001b[0m\u001b[0;34m\u001b[0m\u001b[0m\n",
      "\u001b[0;32m/home/aguiar/anaconda3/lib/python3.5/http/client.py\u001b[0m in \u001b[0;36m_read_next_chunk_size\u001b[0;34m(self)\u001b[0m\n\u001b[1;32m    499\u001b[0m     \u001b[0;32mdef\u001b[0m \u001b[0m_read_next_chunk_size\u001b[0m\u001b[0;34m(\u001b[0m\u001b[0mself\u001b[0m\u001b[0;34m)\u001b[0m\u001b[0;34m:\u001b[0m\u001b[0;34m\u001b[0m\u001b[0m\n\u001b[1;32m    500\u001b[0m         \u001b[0;31m# Read the next chunk size from the file\u001b[0m\u001b[0;34m\u001b[0m\u001b[0;34m\u001b[0m\u001b[0m\n\u001b[0;32m--> 501\u001b[0;31m         \u001b[0mline\u001b[0m \u001b[0;34m=\u001b[0m \u001b[0mself\u001b[0m\u001b[0;34m.\u001b[0m\u001b[0mfp\u001b[0m\u001b[0;34m.\u001b[0m\u001b[0mreadline\u001b[0m\u001b[0;34m(\u001b[0m\u001b[0m_MAXLINE\u001b[0m \u001b[0;34m+\u001b[0m \u001b[0;36m1\u001b[0m\u001b[0;34m)\u001b[0m\u001b[0;34m\u001b[0m\u001b[0m\n\u001b[0m\u001b[1;32m    502\u001b[0m         \u001b[0;32mif\u001b[0m \u001b[0mlen\u001b[0m\u001b[0;34m(\u001b[0m\u001b[0mline\u001b[0m\u001b[0;34m)\u001b[0m \u001b[0;34m>\u001b[0m \u001b[0m_MAXLINE\u001b[0m\u001b[0;34m:\u001b[0m\u001b[0;34m\u001b[0m\u001b[0m\n\u001b[1;32m    503\u001b[0m             \u001b[0;32mraise\u001b[0m \u001b[0mLineTooLong\u001b[0m\u001b[0;34m(\u001b[0m\u001b[0;34m\"chunk size\"\u001b[0m\u001b[0;34m)\u001b[0m\u001b[0;34m\u001b[0m\u001b[0m\n",
      "\u001b[0;32m/home/aguiar/anaconda3/lib/python3.5/socket.py\u001b[0m in \u001b[0;36mreadinto\u001b[0;34m(self, b)\u001b[0m\n\u001b[1;32m    573\u001b[0m         \u001b[0;32mwhile\u001b[0m \u001b[0;32mTrue\u001b[0m\u001b[0;34m:\u001b[0m\u001b[0;34m\u001b[0m\u001b[0m\n\u001b[1;32m    574\u001b[0m             \u001b[0;32mtry\u001b[0m\u001b[0;34m:\u001b[0m\u001b[0;34m\u001b[0m\u001b[0m\n\u001b[0;32m--> 575\u001b[0;31m                 \u001b[0;32mreturn\u001b[0m \u001b[0mself\u001b[0m\u001b[0;34m.\u001b[0m\u001b[0m_sock\u001b[0m\u001b[0;34m.\u001b[0m\u001b[0mrecv_into\u001b[0m\u001b[0;34m(\u001b[0m\u001b[0mb\u001b[0m\u001b[0;34m)\u001b[0m\u001b[0;34m\u001b[0m\u001b[0m\n\u001b[0m\u001b[1;32m    576\u001b[0m             \u001b[0;32mexcept\u001b[0m \u001b[0mtimeout\u001b[0m\u001b[0;34m:\u001b[0m\u001b[0;34m\u001b[0m\u001b[0m\n\u001b[1;32m    577\u001b[0m                 \u001b[0mself\u001b[0m\u001b[0;34m.\u001b[0m\u001b[0m_timeout_occurred\u001b[0m \u001b[0;34m=\u001b[0m \u001b[0;32mTrue\u001b[0m\u001b[0;34m\u001b[0m\u001b[0m\n",
      "\u001b[0;32m/home/aguiar/anaconda3/lib/python3.5/ssl.py\u001b[0m in \u001b[0;36mrecv_into\u001b[0;34m(self, buffer, nbytes, flags)\u001b[0m\n\u001b[1;32m    927\u001b[0m                   \u001b[0;34m\"non-zero flags not allowed in calls to recv_into() on %s\"\u001b[0m \u001b[0;34m%\u001b[0m\u001b[0;34m\u001b[0m\u001b[0m\n\u001b[1;32m    928\u001b[0m                   self.__class__)\n\u001b[0;32m--> 929\u001b[0;31m             \u001b[0;32mreturn\u001b[0m \u001b[0mself\u001b[0m\u001b[0;34m.\u001b[0m\u001b[0mread\u001b[0m\u001b[0;34m(\u001b[0m\u001b[0mnbytes\u001b[0m\u001b[0;34m,\u001b[0m \u001b[0mbuffer\u001b[0m\u001b[0;34m)\u001b[0m\u001b[0;34m\u001b[0m\u001b[0m\n\u001b[0m\u001b[1;32m    930\u001b[0m         \u001b[0;32melse\u001b[0m\u001b[0;34m:\u001b[0m\u001b[0;34m\u001b[0m\u001b[0m\n\u001b[1;32m    931\u001b[0m             \u001b[0;32mreturn\u001b[0m \u001b[0msocket\u001b[0m\u001b[0;34m.\u001b[0m\u001b[0mrecv_into\u001b[0m\u001b[0;34m(\u001b[0m\u001b[0mself\u001b[0m\u001b[0;34m,\u001b[0m \u001b[0mbuffer\u001b[0m\u001b[0;34m,\u001b[0m \u001b[0mnbytes\u001b[0m\u001b[0;34m,\u001b[0m \u001b[0mflags\u001b[0m\u001b[0;34m)\u001b[0m\u001b[0;34m\u001b[0m\u001b[0m\n",
      "\u001b[0;32m/home/aguiar/anaconda3/lib/python3.5/ssl.py\u001b[0m in \u001b[0;36mread\u001b[0;34m(self, len, buffer)\u001b[0m\n\u001b[1;32m    789\u001b[0m             \u001b[0;32mraise\u001b[0m \u001b[0mValueError\u001b[0m\u001b[0;34m(\u001b[0m\u001b[0;34m\"Read on closed or unwrapped SSL socket.\"\u001b[0m\u001b[0;34m)\u001b[0m\u001b[0;34m\u001b[0m\u001b[0m\n\u001b[1;32m    790\u001b[0m         \u001b[0;32mtry\u001b[0m\u001b[0;34m:\u001b[0m\u001b[0;34m\u001b[0m\u001b[0m\n\u001b[0;32m--> 791\u001b[0;31m             \u001b[0;32mreturn\u001b[0m \u001b[0mself\u001b[0m\u001b[0;34m.\u001b[0m\u001b[0m_sslobj\u001b[0m\u001b[0;34m.\u001b[0m\u001b[0mread\u001b[0m\u001b[0;34m(\u001b[0m\u001b[0mlen\u001b[0m\u001b[0;34m,\u001b[0m \u001b[0mbuffer\u001b[0m\u001b[0;34m)\u001b[0m\u001b[0;34m\u001b[0m\u001b[0m\n\u001b[0m\u001b[1;32m    792\u001b[0m         \u001b[0;32mexcept\u001b[0m \u001b[0mSSLError\u001b[0m \u001b[0;32mas\u001b[0m \u001b[0mx\u001b[0m\u001b[0;34m:\u001b[0m\u001b[0;34m\u001b[0m\u001b[0m\n\u001b[1;32m    793\u001b[0m             \u001b[0;32mif\u001b[0m \u001b[0mx\u001b[0m\u001b[0;34m.\u001b[0m\u001b[0margs\u001b[0m\u001b[0;34m[\u001b[0m\u001b[0;36m0\u001b[0m\u001b[0;34m]\u001b[0m \u001b[0;34m==\u001b[0m \u001b[0mSSL_ERROR_EOF\u001b[0m \u001b[0;32mand\u001b[0m \u001b[0mself\u001b[0m\u001b[0;34m.\u001b[0m\u001b[0msuppress_ragged_eofs\u001b[0m\u001b[0;34m:\u001b[0m\u001b[0;34m\u001b[0m\u001b[0m\n",
      "\u001b[0;32m/home/aguiar/anaconda3/lib/python3.5/ssl.py\u001b[0m in \u001b[0;36mread\u001b[0;34m(self, len, buffer)\u001b[0m\n\u001b[1;32m    573\u001b[0m         \"\"\"\n\u001b[1;32m    574\u001b[0m         \u001b[0;32mif\u001b[0m \u001b[0mbuffer\u001b[0m \u001b[0;32mis\u001b[0m \u001b[0;32mnot\u001b[0m \u001b[0;32mNone\u001b[0m\u001b[0;34m:\u001b[0m\u001b[0;34m\u001b[0m\u001b[0m\n\u001b[0;32m--> 575\u001b[0;31m             \u001b[0mv\u001b[0m \u001b[0;34m=\u001b[0m \u001b[0mself\u001b[0m\u001b[0;34m.\u001b[0m\u001b[0m_sslobj\u001b[0m\u001b[0;34m.\u001b[0m\u001b[0mread\u001b[0m\u001b[0;34m(\u001b[0m\u001b[0mlen\u001b[0m\u001b[0;34m,\u001b[0m \u001b[0mbuffer\u001b[0m\u001b[0;34m)\u001b[0m\u001b[0;34m\u001b[0m\u001b[0m\n\u001b[0m\u001b[1;32m    576\u001b[0m         \u001b[0;32melse\u001b[0m\u001b[0;34m:\u001b[0m\u001b[0;34m\u001b[0m\u001b[0m\n\u001b[1;32m    577\u001b[0m             \u001b[0mv\u001b[0m \u001b[0;34m=\u001b[0m \u001b[0mself\u001b[0m\u001b[0;34m.\u001b[0m\u001b[0m_sslobj\u001b[0m\u001b[0;34m.\u001b[0m\u001b[0mread\u001b[0m\u001b[0;34m(\u001b[0m\u001b[0mlen\u001b[0m\u001b[0;34m)\u001b[0m\u001b[0;34m\u001b[0m\u001b[0m\n",
      "\u001b[0;31mKeyboardInterrupt\u001b[0m: "
     ]
    }
   ],
   "source": [
    "mystream.filter(track=keywords)"
   ]
  },
  {
   "cell_type": "code",
   "execution_count": 49,
   "metadata": {
    "collapsed": false
   },
   "outputs": [
    {
     "data": {
      "text/plain": [
       "{'_id': ObjectId('5a009b7ebe6552587b81e3b9'),\n",
       " 'created_at': 'Mon Nov 06 17:27:26 +0000 2017',\n",
       " 'id_str': '927588246179151872',\n",
       " 'text': 'Entelo Further Strengthens Leadership Team Across Product, Data Science ...: https://t.co/mKrLgMEuJ2 - #AIDrivenMarketing - November 6, 20…'}"
      ]
     },
     "execution_count": 49,
     "metadata": {},
     "output_type": "execute_result"
    }
   ],
   "source": [
    "col.find_one()"
   ]
  },
  {
   "cell_type": "code",
   "execution_count": 50,
   "metadata": {
    "collapsed": true
   },
   "outputs": [],
   "source": [
    "dataset = [{'created_at':item['created_at'],'text':item['text']} for item in col.find()]"
   ]
  },
  {
   "cell_type": "code",
   "execution_count": 51,
   "metadata": {
    "collapsed": true
   },
   "outputs": [],
   "source": [
    "import pandas as pd"
   ]
  },
  {
   "cell_type": "code",
   "execution_count": 52,
   "metadata": {
    "collapsed": true
   },
   "outputs": [],
   "source": [
    "df=pd.DataFrame(dataset)"
   ]
  },
  {
   "cell_type": "code",
   "execution_count": 53,
   "metadata": {
    "collapsed": false
   },
   "outputs": [
    {
     "data": {
      "text/html": [
       "<div>\n",
       "<table border=\"1\" class=\"dataframe\">\n",
       "  <thead>\n",
       "    <tr style=\"text-align: right;\">\n",
       "      <th></th>\n",
       "      <th>created_at</th>\n",
       "      <th>text</th>\n",
       "    </tr>\n",
       "  </thead>\n",
       "  <tbody>\n",
       "    <tr>\n",
       "      <th>0</th>\n",
       "      <td>Mon Nov 06 17:27:26 +0000 2017</td>\n",
       "      <td>Entelo Further Strengthens Leadership Team Acr...</td>\n",
       "    </tr>\n",
       "    <tr>\n",
       "      <th>1</th>\n",
       "      <td>Mon Nov 06 17:27:31 +0000 2017</td>\n",
       "      <td>RT @HadoopTutorial_: Python Programming Full C...</td>\n",
       "    </tr>\n",
       "    <tr>\n",
       "      <th>2</th>\n",
       "      <td>Mon Nov 06 17:27:33 +0000 2017</td>\n",
       "      <td>RT @ianbremmer: Trump does Monty Python. \\nThi...</td>\n",
       "    </tr>\n",
       "    <tr>\n",
       "      <th>3</th>\n",
       "      <td>Mon Nov 06 17:27:34 +0000 2017</td>\n",
       "      <td>#empleo #IT Jefe de Proyecto IT - Big Data -  ...</td>\n",
       "    </tr>\n",
       "    <tr>\n",
       "      <th>4</th>\n",
       "      <td>Mon Nov 06 17:27:35 +0000 2017</td>\n",
       "      <td>RT AviationNews \"The big data generation is co...</td>\n",
       "    </tr>\n",
       "    <tr>\n",
       "      <th>5</th>\n",
       "      <td>Mon Nov 06 17:27:36 +0000 2017</td>\n",
       "      <td>Data Analysis in Python with Pandas\\n☞ https:/...</td>\n",
       "    </tr>\n",
       "    <tr>\n",
       "      <th>6</th>\n",
       "      <td>Mon Nov 06 17:27:44 +0000 2017</td>\n",
       "      <td>@M_3laa3 good luck big data king😂</td>\n",
       "    </tr>\n",
       "    <tr>\n",
       "      <th>7</th>\n",
       "      <td>Mon Nov 06 17:27:56 +0000 2017</td>\n",
       "      <td>RT @xfxie: #Data 2020: State of #BigData Study...</td>\n",
       "    </tr>\n",
       "    <tr>\n",
       "      <th>8</th>\n",
       "      <td>Mon Nov 06 17:27:58 +0000 2017</td>\n",
       "      <td>Complete Python Bootcamp: Go from zero to hero...</td>\n",
       "    </tr>\n",
       "    <tr>\n",
       "      <th>9</th>\n",
       "      <td>Mon Nov 06 17:27:58 +0000 2017</td>\n",
       "      <td>The Ultimate Hands-On Hadoop - Tame your Big D...</td>\n",
       "    </tr>\n",
       "    <tr>\n",
       "      <th>10</th>\n",
       "      <td>Mon Nov 06 17:27:59 +0000 2017</td>\n",
       "      <td>RT @devunt: python ~2.7: reload()\\npython ~3.3...</td>\n",
       "    </tr>\n",
       "    <tr>\n",
       "      <th>11</th>\n",
       "      <td>Mon Nov 06 17:28:00 +0000 2017</td>\n",
       "      <td>RT @scienmag: A Python Climbing on Straight Tr...</td>\n",
       "    </tr>\n",
       "    <tr>\n",
       "      <th>12</th>\n",
       "      <td>Mon Nov 06 17:28:05 +0000 2017</td>\n",
       "      <td>RT @DeepLearn007: KDnuggets : The Data Science...</td>\n",
       "    </tr>\n",
       "    <tr>\n",
       "      <th>13</th>\n",
       "      <td>Mon Nov 06 17:28:07 +0000 2017</td>\n",
       "      <td>Python Text App Using Twilio API https://t.co/...</td>\n",
       "    </tr>\n",
       "    <tr>\n",
       "      <th>14</th>\n",
       "      <td>Mon Nov 06 17:28:08 +0000 2017</td>\n",
       "      <td>#Phone Genuine Vertu Constellation T in Yellow...</td>\n",
       "    </tr>\n",
       "    <tr>\n",
       "      <th>15</th>\n",
       "      <td>Mon Nov 06 17:28:09 +0000 2017</td>\n",
       "      <td>Your clients are using data science to transfo...</td>\n",
       "    </tr>\n",
       "    <tr>\n",
       "      <th>16</th>\n",
       "      <td>Mon Nov 06 17:28:11 +0000 2017</td>\n",
       "      <td>Google Colaboratory — Simplifying Data Science...</td>\n",
       "    </tr>\n",
       "    <tr>\n",
       "      <th>17</th>\n",
       "      <td>Mon Nov 06 17:28:12 +0000 2017</td>\n",
       "      <td>RT @sergii_shanin: Google Colaboratory — Simpl...</td>\n",
       "    </tr>\n",
       "    <tr>\n",
       "      <th>18</th>\n",
       "      <td>Mon Nov 06 17:28:15 +0000 2017</td>\n",
       "      <td>RT @BebeNeuwirth: Truly truly truly one of the...</td>\n",
       "    </tr>\n",
       "    <tr>\n",
       "      <th>19</th>\n",
       "      <td>Mon Nov 06 17:28:20 +0000 2017</td>\n",
       "      <td>The Developers Guide to Python 3 Programming\\n...</td>\n",
       "    </tr>\n",
       "    <tr>\n",
       "      <th>20</th>\n",
       "      <td>Mon Nov 06 17:28:22 +0000 2017</td>\n",
       "      <td>RT @ianbremmer: Trump does Monty Python. \\nThi...</td>\n",
       "    </tr>\n",
       "    <tr>\n",
       "      <th>21</th>\n",
       "      <td>Mon Nov 06 17:28:32 +0000 2017</td>\n",
       "      <td>Exploring the Archives of Big Data\\nhttps://t....</td>\n",
       "    </tr>\n",
       "    <tr>\n",
       "      <th>22</th>\n",
       "      <td>Mon Nov 06 17:28:33 +0000 2017</td>\n",
       "      <td>RT @IAC_Astrofisica: #IACBecasyEmpleos UN cont...</td>\n",
       "    </tr>\n",
       "    <tr>\n",
       "      <th>23</th>\n",
       "      <td>Mon Nov 06 17:28:34 +0000 2017</td>\n",
       "      <td>RT @DeepLearn007: KDnuggets : The Data Science...</td>\n",
       "    </tr>\n",
       "    <tr>\n",
       "      <th>24</th>\n",
       "      <td>Mon Nov 06 17:28:35 +0000 2017</td>\n",
       "      <td>RT @PenTestMag: How To Make A Reverse TCP Back...</td>\n",
       "    </tr>\n",
       "    <tr>\n",
       "      <th>25</th>\n",
       "      <td>Mon Nov 06 17:28:35 +0000 2017</td>\n",
       "      <td>Yesterday I had never used #scapy. Today I wro...</td>\n",
       "    </tr>\n",
       "    <tr>\n",
       "      <th>26</th>\n",
       "      <td>Mon Nov 06 17:28:35 +0000 2017</td>\n",
       "      <td>@Nivendra @dialoglk @blessie_k @rukmankan any ...</td>\n",
       "    </tr>\n",
       "    <tr>\n",
       "      <th>27</th>\n",
       "      <td>Mon Nov 06 17:28:37 +0000 2017</td>\n",
       "      <td>@BZHDeveloper youtube-dl c'est en python</td>\n",
       "    </tr>\n",
       "    <tr>\n",
       "      <th>28</th>\n",
       "      <td>Mon Nov 06 17:28:40 +0000 2017</td>\n",
       "      <td>RT @TekLink_Intl: Insights into Improving Fore...</td>\n",
       "    </tr>\n",
       "    <tr>\n",
       "      <th>29</th>\n",
       "      <td>Mon Nov 06 17:28:42 +0000 2017</td>\n",
       "      <td>RT @Dr_Hmood: التحليل الوصفي يستخدم تقنيات الـ...</td>\n",
       "    </tr>\n",
       "    <tr>\n",
       "      <th>30</th>\n",
       "      <td>Mon Nov 06 17:28:45 +0000 2017</td>\n",
       "      <td>RT @ShareInsights_: How Big Data is Helping So...</td>\n",
       "    </tr>\n",
       "    <tr>\n",
       "      <th>31</th>\n",
       "      <td>Mon Nov 06 17:28:47 +0000 2017</td>\n",
       "      <td>Are Car Companies Going to Profit from your Dr...</td>\n",
       "    </tr>\n",
       "    <tr>\n",
       "      <th>32</th>\n",
       "      <td>Mon Nov 06 17:28:51 +0000 2017</td>\n",
       "      <td>@GillesnFio @Zerilos @jnvk2m @ILuvCO2 @caerban...</td>\n",
       "    </tr>\n",
       "    <tr>\n",
       "      <th>33</th>\n",
       "      <td>Mon Nov 06 17:28:53 +0000 2017</td>\n",
       "      <td>RT @datasciencesdr: Este jueves hablaremos sob...</td>\n",
       "    </tr>\n",
       "    <tr>\n",
       "      <th>34</th>\n",
       "      <td>Mon Nov 06 17:28:53 +0000 2017</td>\n",
       "      <td>The latest Data Science and Stories! https://t...</td>\n",
       "    </tr>\n",
       "    <tr>\n",
       "      <th>35</th>\n",
       "      <td>Mon Nov 06 17:28:57 +0000 2017</td>\n",
       "      <td>RT @Hackers_toolbox: Python Scriptable Reverse...</td>\n",
       "    </tr>\n",
       "    <tr>\n",
       "      <th>36</th>\n",
       "      <td>Mon Nov 06 17:29:00 +0000 2017</td>\n",
       "      <td>RT @wyfegypt: E-learning  and  big data are wo...</td>\n",
       "    </tr>\n",
       "    <tr>\n",
       "      <th>37</th>\n",
       "      <td>Mon Nov 06 17:29:02 +0000 2017</td>\n",
       "      <td>@Avxry But just like every map every year, dat...</td>\n",
       "    </tr>\n",
       "    <tr>\n",
       "      <th>38</th>\n",
       "      <td>Mon Nov 06 17:29:02 +0000 2017</td>\n",
       "      <td>RT @Digital_Mummy: Big Growth in Data Security...</td>\n",
       "    </tr>\n",
       "    <tr>\n",
       "      <th>39</th>\n",
       "      <td>Mon Nov 06 17:29:04 +0000 2017</td>\n",
       "      <td>\"How Pop Artist Shelita Burke Uses Data Scienc...</td>\n",
       "    </tr>\n",
       "    <tr>\n",
       "      <th>40</th>\n",
       "      <td>Mon Nov 06 17:29:04 +0000 2017</td>\n",
       "      <td>#Bigdata #python #hadoop #tableau Godot : Begi...</td>\n",
       "    </tr>\n",
       "    <tr>\n",
       "      <th>41</th>\n",
       "      <td>Mon Nov 06 17:29:04 +0000 2017</td>\n",
       "      <td>An introduction to algorithms in Python\\n☞ htt...</td>\n",
       "    </tr>\n",
       "    <tr>\n",
       "      <th>42</th>\n",
       "      <td>Mon Nov 06 17:29:04 +0000 2017</td>\n",
       "      <td>Interactive Data Visualization with Python &amp;am...</td>\n",
       "    </tr>\n",
       "    <tr>\n",
       "      <th>43</th>\n",
       "      <td>Mon Nov 06 17:29:07 +0000 2017</td>\n",
       "      <td>俺もpython2でも3でもHello World書けるからAI開発携われるってことか\\nあ...</td>\n",
       "    </tr>\n",
       "    <tr>\n",
       "      <th>44</th>\n",
       "      <td>Mon Nov 06 17:29:07 +0000 2017</td>\n",
       "      <td>AMF becomes a member of IVADO - \"Given the cri...</td>\n",
       "    </tr>\n",
       "    <tr>\n",
       "      <th>45</th>\n",
       "      <td>Mon Nov 06 17:29:08 +0000 2017</td>\n",
       "      <td>How a data scientist protects his children fro...</td>\n",
       "    </tr>\n",
       "    <tr>\n",
       "      <th>46</th>\n",
       "      <td>Mon Nov 06 17:29:08 +0000 2017</td>\n",
       "      <td>A good write-up to simplify data science #Data...</td>\n",
       "    </tr>\n",
       "  </tbody>\n",
       "</table>\n",
       "</div>"
      ],
      "text/plain": [
       "                        created_at  \\\n",
       "0   Mon Nov 06 17:27:26 +0000 2017   \n",
       "1   Mon Nov 06 17:27:31 +0000 2017   \n",
       "2   Mon Nov 06 17:27:33 +0000 2017   \n",
       "3   Mon Nov 06 17:27:34 +0000 2017   \n",
       "4   Mon Nov 06 17:27:35 +0000 2017   \n",
       "5   Mon Nov 06 17:27:36 +0000 2017   \n",
       "6   Mon Nov 06 17:27:44 +0000 2017   \n",
       "7   Mon Nov 06 17:27:56 +0000 2017   \n",
       "8   Mon Nov 06 17:27:58 +0000 2017   \n",
       "9   Mon Nov 06 17:27:58 +0000 2017   \n",
       "10  Mon Nov 06 17:27:59 +0000 2017   \n",
       "11  Mon Nov 06 17:28:00 +0000 2017   \n",
       "12  Mon Nov 06 17:28:05 +0000 2017   \n",
       "13  Mon Nov 06 17:28:07 +0000 2017   \n",
       "14  Mon Nov 06 17:28:08 +0000 2017   \n",
       "15  Mon Nov 06 17:28:09 +0000 2017   \n",
       "16  Mon Nov 06 17:28:11 +0000 2017   \n",
       "17  Mon Nov 06 17:28:12 +0000 2017   \n",
       "18  Mon Nov 06 17:28:15 +0000 2017   \n",
       "19  Mon Nov 06 17:28:20 +0000 2017   \n",
       "20  Mon Nov 06 17:28:22 +0000 2017   \n",
       "21  Mon Nov 06 17:28:32 +0000 2017   \n",
       "22  Mon Nov 06 17:28:33 +0000 2017   \n",
       "23  Mon Nov 06 17:28:34 +0000 2017   \n",
       "24  Mon Nov 06 17:28:35 +0000 2017   \n",
       "25  Mon Nov 06 17:28:35 +0000 2017   \n",
       "26  Mon Nov 06 17:28:35 +0000 2017   \n",
       "27  Mon Nov 06 17:28:37 +0000 2017   \n",
       "28  Mon Nov 06 17:28:40 +0000 2017   \n",
       "29  Mon Nov 06 17:28:42 +0000 2017   \n",
       "30  Mon Nov 06 17:28:45 +0000 2017   \n",
       "31  Mon Nov 06 17:28:47 +0000 2017   \n",
       "32  Mon Nov 06 17:28:51 +0000 2017   \n",
       "33  Mon Nov 06 17:28:53 +0000 2017   \n",
       "34  Mon Nov 06 17:28:53 +0000 2017   \n",
       "35  Mon Nov 06 17:28:57 +0000 2017   \n",
       "36  Mon Nov 06 17:29:00 +0000 2017   \n",
       "37  Mon Nov 06 17:29:02 +0000 2017   \n",
       "38  Mon Nov 06 17:29:02 +0000 2017   \n",
       "39  Mon Nov 06 17:29:04 +0000 2017   \n",
       "40  Mon Nov 06 17:29:04 +0000 2017   \n",
       "41  Mon Nov 06 17:29:04 +0000 2017   \n",
       "42  Mon Nov 06 17:29:04 +0000 2017   \n",
       "43  Mon Nov 06 17:29:07 +0000 2017   \n",
       "44  Mon Nov 06 17:29:07 +0000 2017   \n",
       "45  Mon Nov 06 17:29:08 +0000 2017   \n",
       "46  Mon Nov 06 17:29:08 +0000 2017   \n",
       "\n",
       "                                                 text  \n",
       "0   Entelo Further Strengthens Leadership Team Acr...  \n",
       "1   RT @HadoopTutorial_: Python Programming Full C...  \n",
       "2   RT @ianbremmer: Trump does Monty Python. \\nThi...  \n",
       "3   #empleo #IT Jefe de Proyecto IT - Big Data -  ...  \n",
       "4   RT AviationNews \"The big data generation is co...  \n",
       "5   Data Analysis in Python with Pandas\\n☞ https:/...  \n",
       "6                   @M_3laa3 good luck big data king😂  \n",
       "7   RT @xfxie: #Data 2020: State of #BigData Study...  \n",
       "8   Complete Python Bootcamp: Go from zero to hero...  \n",
       "9   The Ultimate Hands-On Hadoop - Tame your Big D...  \n",
       "10  RT @devunt: python ~2.7: reload()\\npython ~3.3...  \n",
       "11  RT @scienmag: A Python Climbing on Straight Tr...  \n",
       "12  RT @DeepLearn007: KDnuggets : The Data Science...  \n",
       "13  Python Text App Using Twilio API https://t.co/...  \n",
       "14  #Phone Genuine Vertu Constellation T in Yellow...  \n",
       "15  Your clients are using data science to transfo...  \n",
       "16  Google Colaboratory — Simplifying Data Science...  \n",
       "17  RT @sergii_shanin: Google Colaboratory — Simpl...  \n",
       "18  RT @BebeNeuwirth: Truly truly truly one of the...  \n",
       "19  The Developers Guide to Python 3 Programming\\n...  \n",
       "20  RT @ianbremmer: Trump does Monty Python. \\nThi...  \n",
       "21  Exploring the Archives of Big Data\\nhttps://t....  \n",
       "22  RT @IAC_Astrofisica: #IACBecasyEmpleos UN cont...  \n",
       "23  RT @DeepLearn007: KDnuggets : The Data Science...  \n",
       "24  RT @PenTestMag: How To Make A Reverse TCP Back...  \n",
       "25  Yesterday I had never used #scapy. Today I wro...  \n",
       "26  @Nivendra @dialoglk @blessie_k @rukmankan any ...  \n",
       "27           @BZHDeveloper youtube-dl c'est en python  \n",
       "28  RT @TekLink_Intl: Insights into Improving Fore...  \n",
       "29  RT @Dr_Hmood: التحليل الوصفي يستخدم تقنيات الـ...  \n",
       "30  RT @ShareInsights_: How Big Data is Helping So...  \n",
       "31  Are Car Companies Going to Profit from your Dr...  \n",
       "32  @GillesnFio @Zerilos @jnvk2m @ILuvCO2 @caerban...  \n",
       "33  RT @datasciencesdr: Este jueves hablaremos sob...  \n",
       "34  The latest Data Science and Stories! https://t...  \n",
       "35  RT @Hackers_toolbox: Python Scriptable Reverse...  \n",
       "36  RT @wyfegypt: E-learning  and  big data are wo...  \n",
       "37  @Avxry But just like every map every year, dat...  \n",
       "38  RT @Digital_Mummy: Big Growth in Data Security...  \n",
       "39  \"How Pop Artist Shelita Burke Uses Data Scienc...  \n",
       "40  #Bigdata #python #hadoop #tableau Godot : Begi...  \n",
       "41  An introduction to algorithms in Python\\n☞ htt...  \n",
       "42  Interactive Data Visualization with Python &am...  \n",
       "43  俺もpython2でも3でもHello World書けるからAI開発携われるってことか\\nあ...  \n",
       "44  AMF becomes a member of IVADO - \"Given the cri...  \n",
       "45  How a data scientist protects his children fro...  \n",
       "46  A good write-up to simplify data science #Data...  "
      ]
     },
     "execution_count": 53,
     "metadata": {},
     "output_type": "execute_result"
    }
   ],
   "source": [
    "df"
   ]
  },
  {
   "cell_type": "code",
   "execution_count": 54,
   "metadata": {
    "collapsed": true
   },
   "outputs": [],
   "source": [
    "from sklearn.feature_extraction.text import CountVectorizer"
   ]
  },
  {
   "cell_type": "code",
   "execution_count": 55,
   "metadata": {
    "collapsed": true
   },
   "outputs": [],
   "source": [
    "cv =CountVectorizer()"
   ]
  },
  {
   "cell_type": "code",
   "execution_count": 56,
   "metadata": {
    "collapsed": true
   },
   "outputs": [],
   "source": [
    "count_matrix=cv.fit_transform(df.text)"
   ]
  },
  {
   "cell_type": "code",
   "execution_count": 57,
   "metadata": {
    "collapsed": false
   },
   "outputs": [
    {
     "data": {
      "text/html": [
       "<div>\n",
       "<table border=\"1\" class=\"dataframe\">\n",
       "  <thead>\n",
       "    <tr style=\"text-align: right;\">\n",
       "      <th></th>\n",
       "      <th>word</th>\n",
       "      <th>count</th>\n",
       "    </tr>\n",
       "  </thead>\n",
       "  <tbody>\n",
       "    <tr>\n",
       "      <th>0</th>\n",
       "      <td>https</td>\n",
       "      <td>50</td>\n",
       "    </tr>\n",
       "    <tr>\n",
       "      <th>1</th>\n",
       "      <td>co</td>\n",
       "      <td>48</td>\n",
       "    </tr>\n",
       "    <tr>\n",
       "      <th>2</th>\n",
       "      <td>data</td>\n",
       "      <td>32</td>\n",
       "    </tr>\n",
       "    <tr>\n",
       "      <th>3</th>\n",
       "      <td>python</td>\n",
       "      <td>26</td>\n",
       "    </tr>\n",
       "    <tr>\n",
       "      <th>4</th>\n",
       "      <td>rt</td>\n",
       "      <td>20</td>\n",
       "    </tr>\n",
       "    <tr>\n",
       "      <th>5</th>\n",
       "      <td>the</td>\n",
       "      <td>13</td>\n",
       "    </tr>\n",
       "    <tr>\n",
       "      <th>6</th>\n",
       "      <td>science</td>\n",
       "      <td>12</td>\n",
       "    </tr>\n",
       "    <tr>\n",
       "      <th>7</th>\n",
       "      <td>to</td>\n",
       "      <td>11</td>\n",
       "    </tr>\n",
       "    <tr>\n",
       "      <th>8</th>\n",
       "      <td>big</td>\n",
       "      <td>10</td>\n",
       "    </tr>\n",
       "    <tr>\n",
       "      <th>9</th>\n",
       "      <td>bigdata</td>\n",
       "      <td>9</td>\n",
       "    </tr>\n",
       "    <tr>\n",
       "      <th>10</th>\n",
       "      <td>in</td>\n",
       "      <td>6</td>\n",
       "    </tr>\n",
       "    <tr>\n",
       "      <th>11</th>\n",
       "      <td>datascience</td>\n",
       "      <td>6</td>\n",
       "    </tr>\n",
       "    <tr>\n",
       "      <th>12</th>\n",
       "      <td>of</td>\n",
       "      <td>5</td>\n",
       "    </tr>\n",
       "    <tr>\n",
       "      <th>13</th>\n",
       "      <td>and</td>\n",
       "      <td>5</td>\n",
       "    </tr>\n",
       "    <tr>\n",
       "      <th>14</th>\n",
       "      <td>good</td>\n",
       "      <td>4</td>\n",
       "    </tr>\n",
       "    <tr>\n",
       "      <th>15</th>\n",
       "      <td>is</td>\n",
       "      <td>4</td>\n",
       "    </tr>\n",
       "    <tr>\n",
       "      <th>16</th>\n",
       "      <td>are</td>\n",
       "      <td>4</td>\n",
       "    </tr>\n",
       "    <tr>\n",
       "      <th>17</th>\n",
       "      <td>how</td>\n",
       "      <td>4</td>\n",
       "    </tr>\n",
       "    <tr>\n",
       "      <th>18</th>\n",
       "      <td>en</td>\n",
       "      <td>4</td>\n",
       "    </tr>\n",
       "    <tr>\n",
       "      <th>19</th>\n",
       "      <td>truly</td>\n",
       "      <td>3</td>\n",
       "    </tr>\n",
       "    <tr>\n",
       "      <th>20</th>\n",
       "      <td>from</td>\n",
       "      <td>3</td>\n",
       "    </tr>\n",
       "    <tr>\n",
       "      <th>21</th>\n",
       "      <td>de</td>\n",
       "      <td>3</td>\n",
       "    </tr>\n",
       "    <tr>\n",
       "      <th>22</th>\n",
       "      <td>tech</td>\n",
       "      <td>3</td>\n",
       "    </tr>\n",
       "    <tr>\n",
       "      <th>23</th>\n",
       "      <td>course</td>\n",
       "      <td>3</td>\n",
       "    </tr>\n",
       "    <tr>\n",
       "      <th>24</th>\n",
       "      <td>with</td>\n",
       "      <td>3</td>\n",
       "    </tr>\n",
       "    <tr>\n",
       "      <th>25</th>\n",
       "      <td>that</td>\n",
       "      <td>3</td>\n",
       "    </tr>\n",
       "    <tr>\n",
       "      <th>26</th>\n",
       "      <td>your</td>\n",
       "      <td>3</td>\n",
       "    </tr>\n",
       "    <tr>\n",
       "      <th>27</th>\n",
       "      <td>dl</td>\n",
       "      <td>3</td>\n",
       "    </tr>\n",
       "    <tr>\n",
       "      <th>28</th>\n",
       "      <td>programming</td>\n",
       "      <td>3</td>\n",
       "    </tr>\n",
       "    <tr>\n",
       "      <th>29</th>\n",
       "      <td>reload</td>\n",
       "      <td>3</td>\n",
       "    </tr>\n",
       "    <tr>\n",
       "      <th>30</th>\n",
       "      <td>hadoop</td>\n",
       "      <td>3</td>\n",
       "    </tr>\n",
       "    <tr>\n",
       "      <th>31</th>\n",
       "      <td>mi21zpgcbg</td>\n",
       "      <td>2</td>\n",
       "    </tr>\n",
       "    <tr>\n",
       "      <th>32</th>\n",
       "      <td>on</td>\n",
       "      <td>2</td>\n",
       "    </tr>\n",
       "    <tr>\n",
       "      <th>33</th>\n",
       "      <td>kdnuggets</td>\n",
       "      <td>2</td>\n",
       "    </tr>\n",
       "    <tr>\n",
       "      <th>34</th>\n",
       "      <td>monty</td>\n",
       "      <td>2</td>\n",
       "    </tr>\n",
       "    <tr>\n",
       "      <th>35</th>\n",
       "      <td>ml</td>\n",
       "      <td>2</td>\n",
       "    </tr>\n",
       "    <tr>\n",
       "      <th>36</th>\n",
       "      <td>mining</td>\n",
       "      <td>2</td>\n",
       "    </tr>\n",
       "    <tr>\n",
       "      <th>37</th>\n",
       "      <td>this</td>\n",
       "      <td>2</td>\n",
       "    </tr>\n",
       "    <tr>\n",
       "      <th>38</th>\n",
       "      <td>complete</td>\n",
       "      <td>2</td>\n",
       "    </tr>\n",
       "    <tr>\n",
       "      <th>39</th>\n",
       "      <td>iot</td>\n",
       "      <td>2</td>\n",
       "    </tr>\n",
       "    <tr>\n",
       "      <th>40</th>\n",
       "      <td>colaboratory</td>\n",
       "      <td>2</td>\n",
       "    </tr>\n",
       "    <tr>\n",
       "      <th>41</th>\n",
       "      <td>map</td>\n",
       "      <td>2</td>\n",
       "    </tr>\n",
       "    <tr>\n",
       "      <th>42</th>\n",
       "      <td>make</td>\n",
       "      <td>2</td>\n",
       "    </tr>\n",
       "    <tr>\n",
       "      <th>43</th>\n",
       "      <td>trump</td>\n",
       "      <td>2</td>\n",
       "    </tr>\n",
       "    <tr>\n",
       "      <th>44</th>\n",
       "      <td>twilio</td>\n",
       "      <td>2</td>\n",
       "    </tr>\n",
       "    <tr>\n",
       "      <th>45</th>\n",
       "      <td>it</td>\n",
       "      <td>2</td>\n",
       "    </tr>\n",
       "    <tr>\n",
       "      <th>46</th>\n",
       "      <td>google</td>\n",
       "      <td>2</td>\n",
       "    </tr>\n",
       "    <tr>\n",
       "      <th>47</th>\n",
       "      <td>reverse</td>\n",
       "      <td>2</td>\n",
       "    </tr>\n",
       "    <tr>\n",
       "      <th>48</th>\n",
       "      <td>ianbremmer</td>\n",
       "      <td>2</td>\n",
       "    </tr>\n",
       "    <tr>\n",
       "      <th>49</th>\n",
       "      <td>tcp</td>\n",
       "      <td>2</td>\n",
       "    </tr>\n",
       "  </tbody>\n",
       "</table>\n",
       "</div>"
      ],
      "text/plain": [
       "            word  count\n",
       "0          https     50\n",
       "1             co     48\n",
       "2           data     32\n",
       "3         python     26\n",
       "4             rt     20\n",
       "5            the     13\n",
       "6        science     12\n",
       "7             to     11\n",
       "8            big     10\n",
       "9        bigdata      9\n",
       "10            in      6\n",
       "11   datascience      6\n",
       "12            of      5\n",
       "13           and      5\n",
       "14          good      4\n",
       "15            is      4\n",
       "16           are      4\n",
       "17           how      4\n",
       "18            en      4\n",
       "19         truly      3\n",
       "20          from      3\n",
       "21            de      3\n",
       "22          tech      3\n",
       "23        course      3\n",
       "24          with      3\n",
       "25          that      3\n",
       "26          your      3\n",
       "27            dl      3\n",
       "28   programming      3\n",
       "29        reload      3\n",
       "30        hadoop      3\n",
       "31    mi21zpgcbg      2\n",
       "32            on      2\n",
       "33     kdnuggets      2\n",
       "34         monty      2\n",
       "35            ml      2\n",
       "36        mining      2\n",
       "37          this      2\n",
       "38      complete      2\n",
       "39           iot      2\n",
       "40  colaboratory      2\n",
       "41           map      2\n",
       "42          make      2\n",
       "43         trump      2\n",
       "44        twilio      2\n",
       "45            it      2\n",
       "46        google      2\n",
       "47       reverse      2\n",
       "48    ianbremmer      2\n",
       "49           tcp      2"
      ]
     },
     "execution_count": 57,
     "metadata": {},
     "output_type": "execute_result"
    }
   ],
   "source": [
    "word_count=pd.DataFrame(cv.get_feature_names(),columns=['word'])\n",
    "word_count['count']=count_matrix.sum(axis=0).tolist()[0]\n",
    "word_count=word_count.sort_values('count',ascending=False).reset_index(drop=True)\n",
    "word_count[:50]"
   ]
  },
  {
   "cell_type": "code",
   "execution_count": null,
   "metadata": {
    "collapsed": true
   },
   "outputs": [],
   "source": []
  }
 ],
 "metadata": {
  "anaconda-cloud": {},
  "kernelspec": {
   "display_name": "Python [conda root]",
   "language": "python",
   "name": "conda-root-py"
  },
  "language_info": {
   "codemirror_mode": {
    "name": "ipython",
    "version": 3
   },
   "file_extension": ".py",
   "mimetype": "text/x-python",
   "name": "python",
   "nbconvert_exporter": "python",
   "pygments_lexer": "ipython3",
   "version": "3.5.2"
  }
 },
 "nbformat": 4,
 "nbformat_minor": 1
}
